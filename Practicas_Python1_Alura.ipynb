{
  "nbformat": 4,
  "nbformat_minor": 0,
  "metadata": {
    "colab": {
      "provenance": [],
      "collapsed_sections": [
        "LQlP3n5c9CMV"
      ],
      "authorship_tag": "ABX9TyNKhIcPI1JWigUgSzWN+Grk",
      "include_colab_link": true
    },
    "kernelspec": {
      "name": "python3",
      "display_name": "Python 3"
    },
    "language_info": {
      "name": "python"
    }
  },
  "cells": [
    {
      "cell_type": "markdown",
      "metadata": {
        "id": "view-in-github",
        "colab_type": "text"
      },
      "source": [
        "<a href=\"https://colab.research.google.com/github/YasminTorresDesign/Practicas-Python-DS-Alura/blob/main/Practicas_Python1_Alura.ipynb\" target=\"_parent\"><img src=\"https://colab.research.google.com/assets/colab-badge.svg\" alt=\"Open In Colab\"/></a>"
      ]
    },
    {
      "cell_type": "markdown",
      "source": [
        "# Python para Data Science\n",
        "\n",
        "## Practicas del curso: **Primeros pasos**\n",
        "\n",
        "\n",
        "\n"
      ],
      "metadata": {
        "id": "J9xvHizu5M9X"
      }
    },
    {
      "cell_type": "markdown",
      "source": [
        "# 2. Manipulando de datos"
      ],
      "metadata": {
        "id": "LQlP3n5c9CMV"
      }
    },
    {
      "cell_type": "markdown",
      "source": [
        "## Desafío: ¡Es hora de practicar!\n",
        "\n",
        "Vamos a practicar el uso de varios tipos de variables y la función input a través de algunas actividades. Resuelve los problemas propuestos en código."
      ],
      "metadata": {
        "id": "EWNV20-h704D"
      }
    },
    {
      "cell_type": "markdown",
      "source": [
        "1 - Crea un programa que solicite al usuario que escriba su nombre y luego imprima \"Hola, [nombre].\""
      ],
      "metadata": {
        "id": "RpwnFg359HCN"
      }
    },
    {
      "cell_type": "code",
      "source": [
        "nombre = input(\"Escribe tu nombre: \")\n",
        "print(f\"Hola, {nombre}.\")"
      ],
      "metadata": {
        "colab": {
          "base_uri": "https://localhost:8080/"
        },
        "id": "nQ-2R_dJ7zJr",
        "outputId": "bef6924c-3d7e-499e-996e-ba541806731e"
      },
      "execution_count": null,
      "outputs": [
        {
          "output_type": "stream",
          "name": "stdout",
          "text": [
            "Escribe tu nombre: Yasmin\n",
            "Hola, Yasmin.\n"
          ]
        }
      ]
    },
    {
      "cell_type": "markdown",
      "source": [
        "2 - Crea un programa que solicite al usuario que escriba su nombre y edad, y luego imprima \"Hola, [nombre], tienes [edad] años.\""
      ],
      "metadata": {
        "id": "hb4aaSzD9vuj"
      }
    },
    {
      "cell_type": "code",
      "source": [
        "nombre = input(\"Escribe tu nombre: \")\n",
        "edad = input(\"Escribe tu edad: \")\n",
        "print(f\"Hola, {nombre}, tienes {edad} años.\")"
      ],
      "metadata": {
        "colab": {
          "base_uri": "https://localhost:8080/"
        },
        "id": "1YisxpSo9ujz",
        "outputId": "57ba075b-c5a7-433e-ff67-40ed6788f5a1"
      },
      "execution_count": null,
      "outputs": [
        {
          "output_type": "stream",
          "name": "stdout",
          "text": [
            "Escribe tu nombre: Yasmin\n",
            "Escribe tu edad: 51\n",
            "Hola, Yasmin, tienes 51 años.\n"
          ]
        }
      ]
    },
    {
      "cell_type": "markdown",
      "source": [
        "3 - Crea un programa que solicite al usuario que escriba su nombre, edad y altura en metros, y luego imprima \"Hola, [nombre], tienes [edad] años y mides [altura] metros.\""
      ],
      "metadata": {
        "id": "-vDQgQKm-EmK"
      }
    },
    {
      "cell_type": "code",
      "source": [
        "nombre = input(\"Escribe tu nombre: \")\n",
        "edad = input(\"Escribe tu edad: \")\n",
        "altura = input(\"Escribe tu altura en metros: \")\n",
        "print(f\"Hola, {nombre}, tienes {edad} años y mides {altura} metros.\")"
      ],
      "metadata": {
        "colab": {
          "base_uri": "https://localhost:8080/"
        },
        "id": "_fS-9_xD-LdY",
        "outputId": "016dbd40-89dd-4eac-9925-2dc9d09e572e"
      },
      "execution_count": null,
      "outputs": [
        {
          "output_type": "stream",
          "name": "stdout",
          "text": [
            "Escribe tu nombre: Yasmin\n",
            "Escribe tu edad: 51\n",
            "Escribe tu altura en metros: 1.5\n",
            "Hola, Yasmin, tienes 51 años y mides 1.5 metros.\n"
          ]
        }
      ]
    },
    {
      "cell_type": "markdown",
      "source": [
        "## Calculadora con operadores"
      ],
      "metadata": {
        "id": "Fn7kQ5OP-m8s"
      }
    },
    {
      "cell_type": "markdown",
      "source": [
        "4 - Crea un programa que solicite dos valores numéricos al usuario y luego imprima la suma de ambos valores.\n"
      ],
      "metadata": {
        "id": "oTPh9Z1E-qQ0"
      }
    },
    {
      "cell_type": "code",
      "source": [
        "num1 = float(input(\"Escribe el primer número: \"))\n",
        "num2 = float(input(\"Escribe el segundo número: \"))\n",
        "suma = num1 + num2\n",
        "print(f\"La suma de {num1} y {num2} es {suma}.\")"
      ],
      "metadata": {
        "colab": {
          "base_uri": "https://localhost:8080/"
        },
        "id": "XqkfDyjC-v1D",
        "outputId": "fdc96f33-65c5-481f-be0b-d2bc4849a3e8"
      },
      "execution_count": null,
      "outputs": [
        {
          "output_type": "stream",
          "name": "stdout",
          "text": [
            "Escribe el primer número: 34\n",
            "Escribe el segundo número: 65.7\n",
            "La suma de 34.0 y 65.7 es 99.7.\n"
          ]
        }
      ]
    },
    {
      "cell_type": "markdown",
      "source": [
        "5 - Crea un programa que solicite tres valores numéricos al usuario y luego imprima la suma de los tres valores."
      ],
      "metadata": {
        "id": "VoBYYgXw_I5k"
      }
    },
    {
      "cell_type": "code",
      "source": [
        "num1 = float(input(\"Escribe el primer número: \"))\n",
        "num2 = float(input(\"Escribe el segundo número: \"))\n",
        "num3 = float(input(\"Escribe el tercer número: \"))\n",
        "suma = num1 + num2 + num3\n",
        "print(f\"La suma de {num1}, {num2} y {num3} es {suma}.\")"
      ],
      "metadata": {
        "colab": {
          "base_uri": "https://localhost:8080/"
        },
        "id": "7uwtJmMA_O_Y",
        "outputId": "e4234589-6863-422c-b091-9284b60b2e9e"
      },
      "execution_count": null,
      "outputs": [
        {
          "output_type": "stream",
          "name": "stdout",
          "text": [
            "Escribe el primer número: 45\n",
            "Escribe el segundo número: 56\n",
            "Escribe el tercer número: 33\n",
            "La suma de 45.0, 56.0 y 33.0 es 134.0.\n"
          ]
        }
      ]
    },
    {
      "cell_type": "markdown",
      "source": [
        "6 - Crea un programa que solicite dos valores numéricos al usuario y luego imprima la resta del primero menos el segundo valor."
      ],
      "metadata": {
        "id": "ucHtEAxw_Y4m"
      }
    },
    {
      "cell_type": "code",
      "source": [
        "num1 = float(input(\"Escribe el primer número: \"))\n",
        "num2 = float(input(\"Escribe el segundo número: \"))\n",
        "resta = num1 - num2\n",
        "print(f\"La resta de {num1} menos {num2} es {resta}.\")\n"
      ],
      "metadata": {
        "colab": {
          "base_uri": "https://localhost:8080/"
        },
        "id": "6zxYcLQu_d2Q",
        "outputId": "e6be3e80-e8e7-4c9c-94ee-33283c47bbf4"
      },
      "execution_count": null,
      "outputs": [
        {
          "output_type": "stream",
          "name": "stdout",
          "text": [
            "Escribe el primer número: 34\n",
            "Escribe el segundo número: 67\n",
            "La resta de 34.0 menos 67.0 es -33.0.\n"
          ]
        }
      ]
    },
    {
      "cell_type": "markdown",
      "source": [
        "7 - Crea un programa que solicite dos valores numéricos al usuario y luego imprima la multiplicación de los dos valores."
      ],
      "metadata": {
        "id": "Qu_khNT3_m1o"
      }
    },
    {
      "cell_type": "code",
      "source": [
        "num1 = float(input(\"Escribe el primer número: \"))\n",
        "num2 = float(input(\"Escribe el segundo número: \"))\n",
        "multiplicacion = num1 * num2\n",
        "print(f\"La multiplicación de {num1} y {num2} es {multiplicacion}.\")"
      ],
      "metadata": {
        "colab": {
          "base_uri": "https://localhost:8080/"
        },
        "id": "QGckiX6F_srq",
        "outputId": "e14ff708-c081-446a-d581-b52ad81cad52"
      },
      "execution_count": null,
      "outputs": [
        {
          "output_type": "stream",
          "name": "stdout",
          "text": [
            "Escribe el primer número: 3\n",
            "Escribe el segundo número: 56\n",
            "La multiplicación de 3.0 y 56.0 es 168.0.\n"
          ]
        }
      ]
    },
    {
      "cell_type": "markdown",
      "source": [
        "8 - Crea un programa que solicite dos valores numéricos, un numerador y un denominador, y realice la división entre los dos valores. Asegúrate de que el valor del denominador no sea igual a 0."
      ],
      "metadata": {
        "id": "wh_krejZ_zsf"
      }
    },
    {
      "cell_type": "code",
      "source": [
        "num1 = float(input(\"Escribe el numerador: \"))\n",
        "num2 = float(input(\"Escribe el denominador: \"))\n",
        "# Check if the denominator is zero before performing division\n",
        "if num2 == 0:\n",
        "    print(\"Error: El denominador no puede ser cero.\")\n",
        "else:\n",
        "    division = num1 / num2\n",
        "    print(f\"La división de {num1} entre {num2} es {division}.\")"
      ],
      "metadata": {
        "colab": {
          "base_uri": "https://localhost:8080/"
        },
        "id": "flyCgU36_53I",
        "outputId": "eff3e8bb-3cf6-415a-9484-6f0d0f3000fe"
      },
      "execution_count": null,
      "outputs": [
        {
          "output_type": "stream",
          "name": "stdout",
          "text": [
            "Escribe el numerador: 56\n",
            "Escribe el denominador: 6\n",
            "La división de 56.0 entre 6.0 es 9.333333333333334.\n"
          ]
        }
      ]
    },
    {
      "cell_type": "markdown",
      "source": [
        "9 - Crea un programa que solicite dos valores numéricos, un operador y una potencia, y realice la exponenciación entre estos dos valores."
      ],
      "metadata": {
        "id": "C4geF66WAn9b"
      }
    },
    {
      "cell_type": "code",
      "source": [
        "num1 = float(input(\"Escribe el primer número: \"))\n",
        "num2 = float(input(\"Escribe el segundo número: \"))\n",
        "potencia = num1 ** num2\n",
        "print(f\"{num1} elevado a la {num2} es {potencia}.\")"
      ],
      "metadata": {
        "colab": {
          "base_uri": "https://localhost:8080/"
        },
        "id": "NmFgkGnwAtL4",
        "outputId": "f96aa782-0fbc-4a1a-d53a-79dc9f903737"
      },
      "execution_count": null,
      "outputs": [
        {
          "output_type": "stream",
          "name": "stdout",
          "text": [
            "Escribe el primer número: 5\n",
            "Escribe el segundo número: 5\n",
            "5.0 elevado a la 5.0 es 3125.0.\n"
          ]
        }
      ]
    },
    {
      "cell_type": "markdown",
      "source": [
        "10 - Crea un programa que solicite dos valores numéricos, un numerador y un denominador, y realice la división entera entre los dos valores. Asegúrate de que el valor del denominador no sea igual a 0."
      ],
      "metadata": {
        "id": "zG5oexajBMqv"
      }
    },
    {
      "cell_type": "code",
      "source": [
        "num1 = float(input(\"Escribe el numerador: \"))\n",
        "num2 = float(input(\"Escribe el denominador: \"))\n",
        "# Check if the denominator is zero before performing division\n",
        "if num2 == 0:\n",
        "    print(\"Error: El denominador no puede ser cero.\")\n",
        "else:\n",
        "  print(f\"La división entera de {num1} entre {num2} es {num1 // num2}.\")"
      ],
      "metadata": {
        "colab": {
          "base_uri": "https://localhost:8080/"
        },
        "id": "O76ZBmtKBaON",
        "outputId": "b27aa0a3-48a7-4311-e213-f9512916447d"
      },
      "execution_count": null,
      "outputs": [
        {
          "output_type": "stream",
          "name": "stdout",
          "text": [
            "Escribe el numerador: 78\n",
            "Escribe el denominador: 7\n",
            "La división entera de 78.0 entre 7.0 es 11.0.\n"
          ]
        }
      ]
    },
    {
      "cell_type": "markdown",
      "source": [
        "11 - Crea un programa que solicite dos valores numéricos, un numerador y un denominador, y devuelva el resto de la división entre los dos valores. Asegúrate de que el valor del denominador no sea igual a 0."
      ],
      "metadata": {
        "id": "kMJvu33jCWZV"
      }
    },
    {
      "cell_type": "code",
      "source": [
        "num1 = float(input(\"Escribe el numerador: \"))\n",
        "num2 = float(input(\"Escribe el denominador: \"))\n",
        "# Check if the denominator is zero before performing division\n",
        "if num2 == 0:\n",
        "    print(\"Error: El denominador no puede ser cero.\")\n",
        "\n",
        "else:\n",
        "    print(f\"El resto de la división de {num1} entre {num2} es {num1 % num2}.\")"
      ],
      "metadata": {
        "colab": {
          "base_uri": "https://localhost:8080/"
        },
        "id": "VbzkU0xnCjXM",
        "outputId": "dc85b8e3-08e3-4fda-f5d5-0262451a329e"
      },
      "execution_count": null,
      "outputs": [
        {
          "output_type": "stream",
          "name": "stdout",
          "text": [
            "Escribe el numerador: 56\n",
            "Escribe el denominador: 10\n",
            "El resto de la división de 56.0 entre 10.0 es 6.0.\n"
          ]
        }
      ]
    },
    {
      "cell_type": "markdown",
      "source": [
        "12 - Crea un código que solicite las 3 notas de un estudiante e imprima el promedio de las notas."
      ],
      "metadata": {
        "id": "XzdlPIeNC7NH"
      }
    },
    {
      "cell_type": "code",
      "source": [
        "nota1 = float(input(\"Escribe la primera nota: \"))\n",
        "nota2 = float(input(\"Escribe la segunda nota: \"))\n",
        "nota3 = float(input(\"Escribe la tercera nota: \"))\n",
        "promedio = (nota1 + nota2 + nota3) / 3\n",
        "print(f\"El promedio de las notas {nota1}, {nota2} y {nota3} es {promedio}.\")"
      ],
      "metadata": {
        "colab": {
          "base_uri": "https://localhost:8080/"
        },
        "id": "r81YyQb8C9CV",
        "outputId": "adbf5c2e-c2e4-408a-e9b8-e265a0cd9d95"
      },
      "execution_count": null,
      "outputs": [
        {
          "output_type": "stream",
          "name": "stdout",
          "text": [
            "Escribe la primera nota: 5\n",
            "Escribe la segunda nota: 7\n",
            "Escribe la tercera nota: 2\n",
            "El promedio de las notas 5.0, 7.0 y 2.0 es 4.666666666666667.\n"
          ]
        }
      ]
    },
    {
      "cell_type": "markdown",
      "source": [
        "13 - Crea un código que calcule e imprima el promedio ponderado de los números 5, 12, 20 y 15 con pesos respectivamente iguales a 1, 2, 3 y 4."
      ],
      "metadata": {
        "id": "Lix4UfmYDTG9"
      }
    },
    {
      "cell_type": "code",
      "source": [
        "calculo = (5 * 1 + 12 * 2 + 20 * 3 + 15 * 4) / (1 + 2 + 3 + 4)\n",
        "print (calculo)"
      ],
      "metadata": {
        "colab": {
          "base_uri": "https://localhost:8080/"
        },
        "id": "oMtJA7rQDUrR",
        "outputId": "cfa29caa-9b69-4bda-8761-c70a7ac9ed94"
      },
      "execution_count": null,
      "outputs": [
        {
          "output_type": "stream",
          "name": "stdout",
          "text": [
            "14.9\n"
          ]
        }
      ]
    },
    {
      "cell_type": "code",
      "source": [
        "media_ponderada = (5*1 + 12*2 + 20*3 + 15*4) / (1+2+3+4)\n",
        "print(f'Media {media_ponderada}.')"
      ],
      "metadata": {
        "colab": {
          "base_uri": "https://localhost:8080/"
        },
        "id": "1SASm8cHEOHm",
        "outputId": "43149c65-2a25-4820-9145-bfc1b1540fed"
      },
      "execution_count": null,
      "outputs": [
        {
          "output_type": "stream",
          "name": "stdout",
          "text": [
            "Media 14.9.\n"
          ]
        }
      ]
    },
    {
      "cell_type": "markdown",
      "source": [],
      "metadata": {
        "id": "hj-BXBnuERNm"
      }
    },
    {
      "cell_type": "markdown",
      "source": [
        "## Editando textos"
      ],
      "metadata": {
        "id": "7T91PmbyEd4g"
      }
    },
    {
      "cell_type": "markdown",
      "source": [
        "14 - Crea una variable llamada \"frase\" y asígnale una cadena de texto de tu elección. Luego, imprime la frase en pantalla."
      ],
      "metadata": {
        "id": "JxA8jQGEEhGz"
      }
    },
    {
      "cell_type": "code",
      "source": [
        "frase = \"Bienvenidos al Data Science!\"\n",
        "print(frase)"
      ],
      "metadata": {
        "colab": {
          "base_uri": "https://localhost:8080/"
        },
        "id": "SBJ-p8qWEkgW",
        "outputId": "b1222380-bce8-499e-8bff-8bcd17644b2b"
      },
      "execution_count": null,
      "outputs": [
        {
          "output_type": "stream",
          "name": "stdout",
          "text": [
            "Bienvenidos al Data Science!\n"
          ]
        }
      ]
    },
    {
      "cell_type": "markdown",
      "source": [
        "15 - Crea un código que solicite una frase y luego imprima la frase en pantalla."
      ],
      "metadata": {
        "id": "W59IWhzfExJD"
      }
    },
    {
      "cell_type": "code",
      "source": [
        "frase = input(\"Escribe una frase: \")\n",
        "print(frase)"
      ],
      "metadata": {
        "colab": {
          "base_uri": "https://localhost:8080/"
        },
        "id": "C8XjsGAgE1Ae",
        "outputId": "d5c25b11-e90f-4589-b7da-e01f78e3f802"
      },
      "execution_count": null,
      "outputs": [
        {
          "output_type": "stream",
          "name": "stdout",
          "text": [
            "Escribe una frase: buen dia\n",
            "buen dia\n"
          ]
        }
      ]
    },
    {
      "cell_type": "markdown",
      "source": [
        "16 - Crea un código que solicite una frase al usuario y luego imprima la misma frase ingresada pero en mayúsculas."
      ],
      "metadata": {
        "id": "Yu2u7yf0E-lC"
      }
    },
    {
      "cell_type": "code",
      "source": [
        "frase = input(\"Escribe una frase: \")\n",
        "print(frase.upper())"
      ],
      "metadata": {
        "colab": {
          "base_uri": "https://localhost:8080/"
        },
        "id": "QyvQo4LxE_fp",
        "outputId": "01b026da-0bdc-4923-dc4a-1767c839233e"
      },
      "execution_count": null,
      "outputs": [
        {
          "output_type": "stream",
          "name": "stdout",
          "text": [
            "Escribe una frase: holaaaaa\n",
            "HOLAAAAA\n"
          ]
        }
      ]
    },
    {
      "cell_type": "markdown",
      "source": [
        "17 - Crea un código que solicite una frase al usuario y luego imprima la misma frase ingresada pero en minúsculas."
      ],
      "metadata": {
        "id": "KuPjrR8TFJOL"
      }
    },
    {
      "cell_type": "code",
      "source": [
        "frase = input(\"Escribe una frase: \")\n",
        "print(frase.lower())"
      ],
      "metadata": {
        "colab": {
          "base_uri": "https://localhost:8080/"
        },
        "id": "2Z1U1Ig3FLCf",
        "outputId": "a048bcb8-f4ce-45e6-c2e7-12d38e10fce8"
      },
      "execution_count": null,
      "outputs": [
        {
          "output_type": "stream",
          "name": "stdout",
          "text": [
            "Escribe una frase: Noches\n",
            "noches\n"
          ]
        }
      ]
    },
    {
      "cell_type": "markdown",
      "source": [
        "18 - Crea una variable llamada \"frase\" y asígnale una cadena de texto de tu elección. Luego, imprime la frase sin espacios en blanco al principio y al final."
      ],
      "metadata": {
        "id": "weSKhfPMFUqz"
      }
    },
    {
      "cell_type": "code",
      "source": [
        "frase = \" Bienvenidos al Data Science! \"\n",
        "print(frase.strip())"
      ],
      "metadata": {
        "colab": {
          "base_uri": "https://localhost:8080/"
        },
        "id": "GYp6QFaGFWPt",
        "outputId": "58525733-83cc-4b61-f015-7e300478341e"
      },
      "execution_count": null,
      "outputs": [
        {
          "output_type": "stream",
          "name": "stdout",
          "text": [
            "Bienvenidos al Data Science!\n"
          ]
        }
      ]
    },
    {
      "cell_type": "markdown",
      "source": [
        "19 - Crea un código que solicite una frase al usuario y luego imprima la misma frase sin espacios en blanco al principio y al final."
      ],
      "metadata": {
        "id": "UvtruB1FFgYq"
      }
    },
    {
      "cell_type": "code",
      "source": [
        "frase = input(\"Escribe una frase: \")\n",
        "print(frase.strip())"
      ],
      "metadata": {
        "colab": {
          "base_uri": "https://localhost:8080/"
        },
        "id": "HhMyN7J5Fhr_",
        "outputId": "83ad0747-9b34-4497-ecd9-377b8ab66a7d"
      },
      "execution_count": null,
      "outputs": [
        {
          "output_type": "stream",
          "name": "stdout",
          "text": [
            "Escribe una frase:  bienvenidos   \n",
            "bienvenidos\n"
          ]
        }
      ]
    },
    {
      "cell_type": "markdown",
      "source": [
        "20 - Crea un código que solicite una frase al usuario y luego imprima la misma frase sin espacios en blanco al principio y al final, además de convertirla a minúsculas."
      ],
      "metadata": {
        "id": "LTKOfPdlFzDI"
      }
    },
    {
      "cell_type": "code",
      "source": [
        "frase = input(\"Escribe una frase: \")\n",
        "print(frase.strip().lower())"
      ],
      "metadata": {
        "colab": {
          "base_uri": "https://localhost:8080/"
        },
        "id": "EgZldK6PF0JB",
        "outputId": "c9b9cf10-2497-49b0-e918-3e7d8e587f2b"
      },
      "execution_count": null,
      "outputs": [
        {
          "output_type": "stream",
          "name": "stdout",
          "text": [
            "Escribe una frase: Buenos Dias \n",
            "buenos dias\n"
          ]
        }
      ]
    },
    {
      "cell_type": "markdown",
      "source": [
        "21 - Crea un código que solicite una frase al usuario y luego imprima la misma frase con todas las vocales \"e\" reemplazadas por la letra \"f\""
      ],
      "metadata": {
        "id": "Xnkzbz5ZF_Pb"
      }
    },
    {
      "cell_type": "code",
      "source": [
        "frase = input(\"Escribe una frase: \")\n",
        "print(frase.replace(\"e\", \"f\"))"
      ],
      "metadata": {
        "colab": {
          "base_uri": "https://localhost:8080/"
        },
        "id": "0gN_pDkLGAoZ",
        "outputId": "7aadf291-5c04-49c0-967c-5338a26ecfbc"
      },
      "execution_count": null,
      "outputs": [
        {
          "output_type": "stream",
          "name": "stdout",
          "text": [
            "Escribe una frase: Buenos dias Ester\n",
            "Bufnos dias Estfr\n"
          ]
        }
      ]
    },
    {
      "cell_type": "markdown",
      "source": [
        "22 - Crea un código que solicite una frase al usuario y luego imprima la misma frase con todas las vocales \"a\" reemplazadas por el carácter \"@\"."
      ],
      "metadata": {
        "id": "oefFv4ViGNup"
      }
    },
    {
      "cell_type": "code",
      "source": [
        "frase = input(\"Escribe una frase: \")\n",
        "print(frase.replace(\"a\", \"@\"))"
      ],
      "metadata": {
        "colab": {
          "base_uri": "https://localhost:8080/"
        },
        "id": "W6KZw9wuGPCK",
        "outputId": "06b76e6b-c319-4367-ab5e-28f0da5113a1"
      },
      "execution_count": null,
      "outputs": [
        {
          "output_type": "stream",
          "name": "stdout",
          "text": [
            "Escribe una frase: Hola  \n",
            "Hol@  \n"
          ]
        }
      ]
    },
    {
      "cell_type": "markdown",
      "source": [
        "23 - Crea un código que solicite una frase al usuario y luego imprima la misma frase con todas las consonantes \"s\" reemplazadas por el carácter \"$\"."
      ],
      "metadata": {
        "id": "Sp3ttUekGYHZ"
      }
    },
    {
      "cell_type": "code",
      "source": [
        "frase = input(\"Escribe una frase: \")\n",
        "print(frase.replace(\"s\", \"$\"))"
      ],
      "metadata": {
        "colab": {
          "base_uri": "https://localhost:8080/"
        },
        "id": "DE5rEtY1GY6r",
        "outputId": "ee7d1c12-4757-4ce0-c337-d8e9ab21f71b"
      },
      "execution_count": null,
      "outputs": [
        {
          "output_type": "stream",
          "name": "stdout",
          "text": [
            "Escribe una frase: Buenos dias\n",
            "Bueno$ dia$\n"
          ]
        }
      ]
    },
    {
      "cell_type": "markdown",
      "source": [],
      "metadata": {
        "id": "Li_TarJmH6yr"
      }
    },
    {
      "cell_type": "markdown",
      "source": [
        "# 3. Estructuras Condicionales\n"
      ],
      "metadata": {
        "id": "aBnhGXuI7Uji"
      }
    },
    {
      "cell_type": "markdown",
      "source": [
        "## Entrenando la programación\n",
        "Practicar el uso de estructuras condicionales como el if, else y elif a través de algunas actividades."
      ],
      "metadata": {
        "id": "YcxYj9rcHkVz"
      }
    },
    {
      "cell_type": "markdown",
      "source": [
        "1 - Escribe un programa que pida a la persona usuaria que proporcione dos números y muestre el número más grande."
      ],
      "metadata": {
        "id": "jE4UE3tfIECH"
      }
    },
    {
      "cell_type": "code",
      "execution_count": null,
      "metadata": {
        "colab": {
          "base_uri": "https://localhost:8080/"
        },
        "id": "eBUd-oOp39OQ",
        "outputId": "9c7d7cec-1a80-4914-fd54-8d28fd40dc35"
      },
      "outputs": [
        {
          "output_type": "stream",
          "name": "stdout",
          "text": [
            "Escribe el primer número: 56\n",
            "Escribe el segundo número: 45\n",
            "El número más grande es 56.0.\n"
          ]
        }
      ],
      "source": [
        "num1 = float(input(\"Escribe el primer número: \"))\n",
        "num2 = float(input(\"Escribe el segundo número: \"))\n",
        "if num1 > num2:\n",
        "    print(f\"El número más grande es {num1}.\")\n",
        "else:\n",
        "    print(f\"El número más grande es {num2}.\")"
      ]
    },
    {
      "cell_type": "markdown",
      "source": [
        "2 - Escribe un programa que solicite el porcentaje de crecimiento de producción de una empresa e informe si hubo un crecimiento (porcentaje positivo) o una disminución (porcentaje negativo)."
      ],
      "metadata": {
        "id": "SBElQ4SAJ3DF"
      }
    },
    {
      "cell_type": "code",
      "source": [
        "porcentaje = float(input(\"Escribe el porcentaje de crecimiento de la producción: \"))\n",
        "if porcentaje > 0:\n",
        "    print(f\"Hubo un crecimiento en la producción en {porcentaje}%\")\n",
        "elif porcentaje > 0:\n",
        "    print(f\"Hubo una disminución en la producción {porcentaje}%\")\n",
        "else:\n",
        "    print(f'No hubo crecimiento ni decrecimiento {porcentaje}%')\n",
        "\n"
      ],
      "metadata": {
        "colab": {
          "base_uri": "https://localhost:8080/"
        },
        "id": "QgtjiUBtJ2ic",
        "outputId": "87bc4cad-f65e-44cb-d912-f71e01f0741e"
      },
      "execution_count": null,
      "outputs": [
        {
          "output_type": "stream",
          "name": "stdout",
          "text": [
            "Escribe el porcentaje de crecimiento de la producción: 35\n",
            "Hubo un crecimiento en la producción en 35.0%\n"
          ]
        }
      ]
    },
    {
      "cell_type": "markdown",
      "source": [
        "3 - Escribe un programa que determine si una letra proporcionada por la persona usuaria es una vocal o una consonante."
      ],
      "metadata": {
        "id": "U0i3L5bAKsAv"
      }
    },
    {
      "cell_type": "code",
      "source": [
        "vocales = ['a', 'e', 'i', 'o', 'u']\n",
        "letra = input(\"Escribe una letra: \")\n",
        "if letra in vocales:\n",
        "    print(\"Es una vocal.\")\n",
        "else:\n",
        "    print(\"Es una consonante.\")"
      ],
      "metadata": {
        "colab": {
          "base_uri": "https://localhost:8080/"
        },
        "id": "F9SyK8uVKwve",
        "outputId": "84a18bcf-52d5-47ba-f2c2-15be15e8ed47"
      },
      "execution_count": null,
      "outputs": [
        {
          "output_type": "stream",
          "name": "stdout",
          "text": [
            "Escribe una letra: t\n",
            "Es una consonante.\n"
          ]
        }
      ]
    },
    {
      "cell_type": "markdown",
      "source": [
        "4 - Escribe un programa que lea valores promedio de precios de un modelo de automóvil durante 3 años consecutivos y muestre el valor más alto y más bajo entre esos tres años."
      ],
      "metadata": {
        "id": "BATlTuDSLqV3"
      }
    },
    {
      "cell_type": "code",
      "source": [
        "precio1 = float(input(\"Escribe el primer precio: \"))\n",
        "precio2 = float(input(\"Escribe el segundo precio: \"))\n",
        "precio3 = float(input(\"Escribe el tercer precio: \"))\n",
        "if precio1 > precio2 and precio1 > precio3:\n",
        "    print(f\"El precio más alto es {precio1}.\")\n",
        "if precio2 > precio3:\n",
        "    print(f\"El precio más bajo es {precio3}.\")\n",
        "else:\n",
        "    print(f\"El precio más bajo es {precio2}.\")\n"
      ],
      "metadata": {
        "colab": {
          "base_uri": "https://localhost:8080/"
        },
        "id": "FePw1y8oLsVA",
        "outputId": "54ec3c73-bb25-409b-9e31-1b83fa19c3ce"
      },
      "execution_count": null,
      "outputs": [
        {
          "output_type": "stream",
          "name": "stdout",
          "text": [
            "Escribe el primer precio: 56\n",
            "Escribe el segundo precio: 78\n",
            "Escribe el tercer precio: 45\n",
            "El precio más bajo es 45.0.\n"
          ]
        }
      ]
    },
    {
      "cell_type": "markdown",
      "source": [
        "5 - Escribe un programa que pregunte sobre el precio de tres productos e indique cuál es el producto más barato para comprar."
      ],
      "metadata": {
        "id": "DeCwDbQiNIJs"
      }
    },
    {
      "cell_type": "code",
      "source": [
        "precio1 = float(input(\"Escribe el primer precio: \"))\n",
        "precio2 = float(input(\"Escribe el segundo precio: \"))\n",
        "precio3 = float(input(\"Escribe el tercer precio: \"))\n",
        "if precio1 < precio2 and precio1 < precio3:\n",
        "    print(f\"El producto más barato es el primero que vale {precio1}.\")\n",
        "if precio2 < precio3:\n",
        "    print(f\"El segundo producto vale {precio2} y el tercero vale {precio3}.\")\n",
        "else:\n",
        "    print(f\"El segundo producto vale {precio2} y el tercero vale {precio3}.\")"
      ],
      "metadata": {
        "colab": {
          "base_uri": "https://localhost:8080/"
        },
        "id": "U_WYRxvoNKG8",
        "outputId": "2e364dfc-5e34-4f3a-b912-cc839e6f4405"
      },
      "execution_count": null,
      "outputs": [
        {
          "output_type": "stream",
          "name": "stdout",
          "text": [
            "Escribe el primer precio: 34\n",
            "Escribe el segundo precio: 80\n",
            "Escribe el tercer precio: 56\n",
            "El producto más barato es el primero que vale 34.0.\n",
            "El segundo producto vale 80.0 y el tercero vale 56.0.\n"
          ]
        }
      ]
    },
    {
      "cell_type": "markdown",
      "source": [
        "6 - Escribe un programa que lea tres números y los muestre en orden descendente."
      ],
      "metadata": {
        "id": "P3Gh_lFZNu-q"
      }
    },
    {
      "cell_type": "code",
      "source": [
        "# Recolectamos los 3 números\n",
        "num1 = int(input('Ingrese el primer número: '))\n",
        "num2 = int(input('Ingrese el segundo número: '))\n",
        "num3 = int(input('Ingrese el tercer número: '))\n",
        "\n",
        "# Comparación entre los 3 números\n",
        "if (num1 >= num2) and (num1 >= num3):\n",
        "    print(num1)\n",
        "    if num2 >= num3:\n",
        "        print(num2)\n",
        "        print(num3)\n",
        "    else:\n",
        "        print(num3)\n",
        "        print(num2)\n",
        "elif (num2 >= num1) and (num2 >= num3):\n",
        "    print(num2)\n",
        "    if num1 >= num3:\n",
        "        print(num1)\n",
        "        print(num3)\n",
        "    else:\n",
        "        print(num3)\n",
        "        print(num1)\n",
        "else:\n",
        "    print(num3)\n",
        "    if num1 >= num2:\n",
        "        print(num1)\n",
        "        print(num2)\n",
        "    else:\n",
        "        print(num2)\n",
        "        print(num1)\n"
      ],
      "metadata": {
        "colab": {
          "base_uri": "https://localhost:8080/"
        },
        "id": "xQBLP1SoNwcY",
        "outputId": "b1aedc48-0b0a-472f-f9c3-a687cf7af293"
      },
      "execution_count": null,
      "outputs": [
        {
          "output_type": "stream",
          "name": "stdout",
          "text": [
            "Ingrese el primer número: 45\n",
            "Ingrese el segundo número: 76\n",
            "Ingrese el tercer número: 23\n",
            "76\n",
            "45\n",
            "23\n"
          ]
        }
      ]
    },
    {
      "cell_type": "code",
      "source": [
        "# Programa en Python para ordenar tres números de mayor a menor\n",
        "\n",
        "# Leemos tres números (pueden ser enteros o decimales)\n",
        "num1 = float(input(\"Ingresa el primer número: \"))\n",
        "num2 = float(input(\"Ingresa el segundo número: \"))\n",
        "num3 = float(input(\"Ingresa el tercer número: \"))\n",
        "\n",
        "# Guardamos los números en una lista\n",
        "numeros = [num1, num2, num3]\n",
        "\n",
        "# Ordenamos la lista en orden descendente\n",
        "numeros.sort(reverse=True)\n",
        "\n",
        "# Mostramos los números ordenados\n",
        "print(\"Números en orden descendente:\")\n",
        "for num in numeros:\n",
        "    print(num)\n"
      ],
      "metadata": {
        "colab": {
          "base_uri": "https://localhost:8080/"
        },
        "id": "WuzjUiZXRjEu",
        "outputId": "e57d60da-8efc-40b3-d870-3e80c81a665b"
      },
      "execution_count": null,
      "outputs": [
        {
          "output_type": "stream",
          "name": "stdout",
          "text": [
            "Ingresa el primer número: 34\n",
            "Ingresa el segundo número: 65\n",
            "Ingresa el tercer número: 98\n",
            "Números en orden descendente:\n",
            "98.0\n",
            "65.0\n",
            "34.0\n"
          ]
        }
      ]
    },
    {
      "cell_type": "markdown",
      "source": [
        "7 -Escribe un programa que pregunte en qué turno estudia la persona usuaria (\"mañana\", \"tarde\" o \"noche\") y muestre el mensaje \"¡Buenos Días!\", \"¡Buenas Tardes!\", \"¡Buenas Noches!\" o \"Valor Inválido!\", según el caso."
      ],
      "metadata": {
        "id": "li66fXb0W-hf"
      }
    },
    {
      "cell_type": "code",
      "source": [
        "turno = input(\"En qué turno estudias? \")\n",
        "if turno == \"mañana\":\n",
        "    print(\"¡Buenos Días!\")\n",
        "elif turno == \"tarde\":\n",
        "    print(\"¡Buenas Tardes!\")\n",
        "elif turno == \"noche\":\n",
        "    print(\"¡Buenas Noches!\")\n",
        "else:\n",
        "    print(\"Valor Inválido!\")"
      ],
      "metadata": {
        "colab": {
          "base_uri": "https://localhost:8080/"
        },
        "id": "KQmskQYUXFUh",
        "outputId": "0f717eb0-53a8-4eb0-e62f-57aae655d555"
      },
      "execution_count": null,
      "outputs": [
        {
          "output_type": "stream",
          "name": "stdout",
          "text": [
            "En qué turno estudias? medio\n",
            "Valor Inválido!\n"
          ]
        }
      ]
    },
    {
      "cell_type": "markdown",
      "source": [
        "8 - Escribe un programa que solicite un número entero a la persona usuaria y determine si es par o impar. Pista: Puedes usar el operador módulo (%)."
      ],
      "metadata": {
        "id": "vD4osdQDXh0z"
      }
    },
    {
      "cell_type": "code",
      "source": [
        "numero = int(input(\"Escribe un número entero: \"))\n",
        "\n",
        "# Usamos el operador módulo (%) para verificar el residuo de la división por 2\n",
        "if numero % 2 == 0:\n",
        "    print(\"El número\", numero, \"es par.\")\n",
        "else:\n",
        "    print(\"El número\", numero, \"es impar.\")\n"
      ],
      "metadata": {
        "colab": {
          "base_uri": "https://localhost:8080/"
        },
        "id": "Q1rUjyfCXjzL",
        "outputId": "2861a930-2f08-4cc3-8578-3ec75e7bf5b3"
      },
      "execution_count": null,
      "outputs": [
        {
          "output_type": "stream",
          "name": "stdout",
          "text": [
            "Escribe un número entero: 9\n",
            "El número 9 es impar.\n"
          ]
        }
      ]
    },
    {
      "cell_type": "markdown",
      "source": [
        "9 - Escribe un programa que pida un número a la persona usuaria y le informe si es entero o decimal."
      ],
      "metadata": {
        "id": "KcpvycGwaUrw"
      }
    },
    {
      "cell_type": "code",
      "source": [
        "# Solicitamos el número al usuario\n",
        "entrada = input(\"Ingresa un número: \")\n",
        "\n",
        "try:\n",
        "    # Convertimos la entrada a número de punto flotante\n",
        "    numero = float(entrada)\n",
        "\n",
        "    # El método is_integer() devuelve True si el número no tiene parte decimal\n",
        "    if numero.is_integer():\n",
        "        print(\"El número es entero.\")\n",
        "    else:\n",
        "        print(\"El número es decimal.\")\n",
        "\n",
        "except ValueError:\n",
        "    # Si la conversión falla, la entrada no es un número válido\n",
        "    print(\"El valor ingresado no es un número válido.\")\n"
      ],
      "metadata": {
        "colab": {
          "base_uri": "https://localhost:8080/"
        },
        "id": "Fs5TCTBBaWJ9",
        "outputId": "f4417139-9e5a-4617-9410-0f78040e6e06"
      },
      "execution_count": null,
      "outputs": [
        {
          "output_type": "stream",
          "name": "stdout",
          "text": [
            "Ingresa un número: 34\n",
            "El número es entero.\n"
          ]
        }
      ]
    },
    {
      "cell_type": "code",
      "source": [
        "# Recolectamos los datos\n",
        "num = float(input('Ingresa un número: '))\n",
        "\n",
        "# Verificamos si el número es entero o decimal según el resultado del módulo\n",
        "if num % 1 == 0:\n",
        "    print('El número es entero.')\n",
        "else:\n",
        "    print('El número es decimal.')\n"
      ],
      "metadata": {
        "colab": {
          "base_uri": "https://localhost:8080/"
        },
        "id": "35IofzQrb6qR",
        "outputId": "cfca0d2b-c6f6-4eed-e6a0-08ae78c0e622"
      },
      "execution_count": null,
      "outputs": [
        {
          "output_type": "stream",
          "name": "stdout",
          "text": [
            "Ingresa un número: 34\n",
            "El número es entero.\n"
          ]
        }
      ]
    },
    {
      "cell_type": "markdown",
      "source": [
        "## **Momento de los proyectos**"
      ],
      "metadata": {
        "id": "7PoxdF-kb6Tr"
      }
    },
    {
      "cell_type": "markdown",
      "source": [
        "10 - Un programa debe ser escrito para leer dos números y luego preguntar a la persona usuaria qué operación desea realizar. El resultado de la operación debe incluir información sobre el número, si es par o impar, positivo o negativo,  entero o decimal."
      ],
      "metadata": {
        "id": "Qxk5VOg_cyWV"
      }
    },
    {
      "cell_type": "code",
      "source": [
        "# Programa que lee dos números, pregunta la operación a realizar\n",
        "# y muestra información del resultado (si es par o impar, positivo o negativo, e entero o decimal).\n",
        "\n",
        "# Se usa un bucle para validar la entrada de los números\n",
        "while True:\n",
        "    try:\n",
        "        num1 = float(input(\"Ingresa el primer número: \"))\n",
        "        num2 = float(input(\"Ingresa el segundo número: \"))\n",
        "        break  # Si ambos números son válidos, salimos del bucle\n",
        "    except ValueError:\n",
        "        print(\"Error: Debes ingresar valores numéricos válidos. Intenta de nuevo.\")\n",
        "\n",
        "# Solicitamos la operación a realizar\n",
        "operacion = input(\"¿Qué operación deseas realizar? (+, -, *, /): \")\n",
        "\n",
        "# Realizamos la operación elegida\n",
        "if operacion == \"+\":\n",
        "    resultado = num1 + num2\n",
        "elif operacion == \"-\":\n",
        "    resultado = num1 - num2\n",
        "elif operacion == \"*\":\n",
        "    resultado = num1 * num2\n",
        "elif operacion == \"/\":\n",
        "    if num2 == 0:\n",
        "        print(\"Error: No se puede dividir por cero.\")\n",
        "        exit()\n",
        "    resultado = num1 / num2\n",
        "else:\n",
        "    print(\"Operación no válida.\")\n",
        "    exit()\n",
        "\n",
        "# Mostramos el resultado de la operación\n",
        "print(\"\\nEl resultado de la operación es:\", resultado)\n",
        "\n",
        "# Determinamos si el resultado es positivo, negativo o cero\n",
        "if resultado > 0:\n",
        "    signo = \"positivo\"\n",
        "elif resultado < 0:\n",
        "    signo = \"negativo\"\n",
        "else:\n",
        "    signo = \"cero\"\n",
        "\n",
        "# Determinamos si el resultado es entero o decimal\n",
        "if resultado.is_integer():\n",
        "    tipo = \"entero\"\n",
        "    # Si es entero, podemos determinar si es par o impar\n",
        "    if int(resultado) % 2 == 0:\n",
        "        paridad = \"par\"\n",
        "    else:\n",
        "        paridad = \"impar\"\n",
        "else:\n",
        "    tipo = \"decimal\"\n",
        "    paridad = \"no se puede determinar paridad para decimales\"\n",
        "\n",
        "# Mostramos la información adicional del resultado\n",
        "print(\"El número es\", signo, \",\", tipo, \"y\", paridad + \".\")\n",
        "\n",
        "\n"
      ],
      "metadata": {
        "colab": {
          "base_uri": "https://localhost:8080/"
        },
        "id": "vS5nNcAwgKkq",
        "outputId": "a8f96a21-7c22-4013-f838-da5303476ae8"
      },
      "execution_count": null,
      "outputs": [
        {
          "output_type": "stream",
          "name": "stdout",
          "text": [
            "Ingresa el primer número: 23\n",
            "Ingresa el segundo número: 78\n",
            "¿Qué operación deseas realizar? (+, -, *, /): -\n",
            "\n",
            "El resultado de la operación es: -55.0\n",
            "El número es negativo , entero y impar.\n"
          ]
        }
      ]
    },
    {
      "cell_type": "markdown",
      "source": [
        "11 - Escribe un programa que pida a la persona usuaria tres números que representan los lados de un triángulo. El programa debe informar si los valores pueden utilizarse para formar un triángulo y, en caso afirmativo, si es equilátero, isósceles o escaleno. Ten en cuenta algunas sugerencias:\n",
        "\n",
        "Tres lados forman un triángulo cuando la suma de cualesquiera dos lados es mayor que el tercero;\n",
        "Triángulo Equilátero: tres lados iguales;\n",
        "Triángulo Isósceles: dos lados iguales;\n",
        "Triángulo Escaleno: tres lados diferentes."
      ],
      "metadata": {
        "id": "CV-9CYankUVd"
      }
    },
    {
      "cell_type": "code",
      "source": [
        "num1 = float(input(\"Ingresa el primer número: \"))\n",
        "num2 = float(input(\"Ingresa el segundo número: \"))\n",
        "num3 = float(input(\"Ingresa el tercer número: \"))\n",
        "\n",
        "if num1 + num2 > num3 or num1 + num3 > num2 or num2 + num3 > num1:\n",
        "    print(\"Los valores ingresados pueden formar un triángulo.\")\n",
        "    if num1 == num2 == num3:\n",
        "        print(\"El triángulo es equilátero.\")\n",
        "    elif num1 == num2 or num1 == num3 or num2 == num3:\n",
        "        print(\"El triángulo es isósceles.\")\n",
        "    else:\n",
        "        print(\"El triángulo es escaleno.\")\n",
        "else:\n",
        "    print(\"Los valores ingresados no pueden formar un triángulo.\")"
      ],
      "metadata": {
        "colab": {
          "base_uri": "https://localhost:8080/"
        },
        "id": "qjtj-IkfkWVE",
        "outputId": "c87151aa-0f00-4ee2-a7fe-aa4caa753776"
      },
      "execution_count": null,
      "outputs": [
        {
          "output_type": "stream",
          "name": "stdout",
          "text": [
            "Ingresa el primer número: 4\n",
            "Ingresa el segundo número: 5\n",
            "Ingresa el tercer número: 5\n",
            "Los valores ingresados pueden formar un triángulo.\n",
            "El triángulo es isósceles.\n"
          ]
        }
      ]
    },
    {
      "cell_type": "markdown",
      "source": [
        "12 - Un establecimiento está vendiendo combustibles con descuentos variables. Para el etanol, si la cantidad comprada es de hasta 15 litros, el descuento será del 2% por litro. En caso contrario, será del 4% por litro. Para el diésel, si la cantidad comprada es de hasta 15 litros, el descuento será del 3% por litro. En caso contrario, será del 5% por litro.\n",
        "\n",
        "El precio por litro de diésel es de R$ 2,00  y el precio por litro de etanol es de R$ 1,70. Escribe un programa que lea la cantidad de litros vendidos y el tipo de combustible (E para etanol y D para diésel) y calcule el valor a pagar por el cliente. Ten en cuenta algunas sugerencias:\n",
        "\n",
        "El valor del descuento será el producto del precio por litro, la cantidad de litros y el valor del descuento.\n",
        "El valor a pagar por un cliente será el resultado de la multiplicación del precio por litro por la cantidad de litros menos el valor del descuento resultante del cálculo."
      ],
      "metadata": {
        "id": "dJ0K3UvblbiF"
      }
    },
    {
      "cell_type": "code",
      "source": [
        "# Programa para calcular el valor a pagar por combustibles con descuentos variables\n",
        "\n",
        "# Solicitamos la cantidad de litros vendidos\n",
        "try:\n",
        "    litros = float(input(\"Ingresa la cantidad de litros vendidos: \"))\n",
        "except ValueError:\n",
        "    print(\"Error: Debes ingresar un valor numérico para los litros.\")\n",
        "    exit()\n",
        "\n",
        "# Solicitamos el tipo de combustible: E para etanol y D para diésel\n",
        "tipo = input(\"Ingresa el tipo de combustible (E para etanol / D para diésel): \").upper()\n",
        "\n",
        "# Definimos los precios por litro\n",
        "precio_etanol = 1.70\n",
        "precio_diesel = 2.00\n",
        "\n",
        "# Inicializamos variables\n",
        "descuento = 0  # en tanto por ciento, expresado en decimal\n",
        "precio_litro = 0\n",
        "\n",
        "if tipo == \"E\":\n",
        "    precio_litro = precio_etanol\n",
        "    if litros <= 15:\n",
        "        descuento = 0.02  # 2%\n",
        "    else:\n",
        "        descuento = 0.04  # 4%\n",
        "elif tipo == \"D\":\n",
        "    precio_litro = precio_diesel\n",
        "    if litros <= 15:\n",
        "        descuento = 0.03  # 3%\n",
        "    else:\n",
        "        descuento = 0.05  # 5%\n",
        "else:\n",
        "    print(\"Error: Tipo de combustible no válido.\")\n",
        "    exit()\n",
        "\n",
        "# Cálculo del valor total sin descuento\n",
        "total_sin_descuento = precio_litro * litros\n",
        "\n",
        "# Cálculo del valor del descuento\n",
        "valor_descuento = total_sin_descuento * descuento\n",
        "\n",
        "# Valor final a pagar\n",
        "valor_a_pagar = total_sin_descuento - valor_descuento\n",
        "\n",
        "# Mostramos el resultado\n",
        "print(\"\\nDetalle de la compra:\")\n",
        "print(\"Litros vendidos:\", litros)\n",
        "print(\"Tipo de combustible:\", \"Etanol\" if tipo == \"E\" else \"Diésel\")\n",
        "print(\"Precio por litro: R$\", precio_litro)\n",
        "print(\"Descuento aplicado: {:.0%}\".format(descuento))\n",
        "print(\"Valor del descuento: R$\", round(valor_descuento, 2))\n",
        "print(\"Total a pagar: R$\", round(valor_a_pagar, 2))\n"
      ],
      "metadata": {
        "colab": {
          "base_uri": "https://localhost:8080/"
        },
        "id": "YOeJayGhlgNN",
        "outputId": "361044e1-9722-49fe-94d0-6afc0f346d7b"
      },
      "execution_count": null,
      "outputs": [
        {
          "output_type": "stream",
          "name": "stdout",
          "text": [
            "Ingresa la cantidad de litros vendidos: 18\n",
            "Ingresa el tipo de combustible (E para etanol / D para diésel): e\n",
            "\n",
            "Detalle de la compra:\n",
            "Litros vendidos: 18.0\n",
            "Tipo de combustible: Etanol\n",
            "Precio por litro: R$ 1.7\n",
            "Descuento aplicado: 4%\n",
            "Valor del descuento: R$ 1.22\n",
            "Total a pagar: R$ 29.38\n"
          ]
        }
      ]
    },
    {
      "cell_type": "markdown",
      "source": [
        "13 - En una empresa de venta de bienes raíces, debes crear un código que analice los datos de ventas anuales para ayudar a la dirección en la toma de decisiones. El código debe recopilar los datos de cantidad de ventas durante los años 2022 y 2023 y calcular la variación porcentual. A partir del valor de la variación, se deben proporcionar las siguientes sugerencias:\n",
        "\n",
        "Para una variación superior al 20%: bonificación para el equipo de ventas.\n",
        "Para una variación entre el 2% y el 20%: pequeña bonificación para el equipo de ventas.\n",
        "Para una variación entre el 2% y el -10%: planificación de políticas de incentivo a las ventas.\n",
        "Para bonificaciones inferiores al -10%: recorte de gastos."
      ],
      "metadata": {
        "id": "Saz1tuAHmyv7"
      }
    },
    {
      "cell_type": "code",
      "source": [
        "# Programa para analizar ventas anuales, calcular variacion y\n",
        "#proporcionar sugerencias\n",
        "\n",
        "# Solicitamos los datos de las ventas\n",
        "try:\n",
        "    ventas_2022 = float(input(\"Ingresa las ventas en el año 2022: \"))\n",
        "    ventas_2023 = float(input(\"Ingresa las ventas en el año 2023: \"))\n",
        "except ValueError:\n",
        "    print(\"Error: Debes ingresar un valor numérico para las ventas.\")\n",
        "    exit()\n",
        "\n",
        "# Validamos que el año 2022 tenga ventas para poder calcular la variación\n",
        "if ventas_2022 == 0:\n",
        "    print(\"No se puede calcular la variación porque en 2022 no hubo ventas.\")\n",
        "else:\n",
        "    # Calculamos la variación porcentual\n",
        "    variacion = ((ventas_2023 - ventas_2022) / ventas_2022) * 100\n",
        "    print(\"La variación porcentual es: {:.2f}%\".format(variacion))\n",
        "\n",
        "    # Según la variación, damos la sugerencia correspondiente:\n",
        "    if variacion > 20:\n",
        "        print(\"Sugerencia: Bonificación para el equipo de ventas.\")\n",
        "    elif 2 <= variacion <= 20:\n",
        "        print(\"Sugerencia: Pequeña bonificación para el equipo de ventas.\")\n",
        "    elif -10 <= variacion < 2:\n",
        "        print(\"Sugerencia: Planificación de políticas de incentivo a las ventas.\")\n",
        "    elif variacion < -10:\n",
        "        print(\"Sugerencia: Recorte de gastos.\")"
      ],
      "metadata": {
        "colab": {
          "base_uri": "https://localhost:8080/"
        },
        "id": "ArMDHDd6m0PB",
        "outputId": "9342df77-ad8e-43c7-bb3e-6843a3b05eb3"
      },
      "execution_count": null,
      "outputs": [
        {
          "output_type": "stream",
          "name": "stdout",
          "text": [
            "Ingresa las ventas en el año 2022: 55000\n",
            "Ingresa las ventas en el año 2023: 35000\n",
            "La variación porcentual es: -36.36%\n",
            "Sugerencia: Recorte de gastos.\n"
          ]
        }
      ]
    },
    {
      "cell_type": "markdown",
      "source": [
        "# 4. Estructuras de Repeticion\n"
      ],
      "metadata": {
        "id": "JE2JdfrPqROn"
      }
    },
    {
      "cell_type": "markdown",
      "source": [
        "## Entrenando la programación\n",
        "Practicar el uso de estructuras de repetición como el \"while\" y el \"for\" a partir de algunas actividades."
      ],
      "metadata": {
        "id": "uo5DyoOfqW1w"
      }
    },
    {
      "cell_type": "markdown",
      "source": [
        "1 - Escribe un programa que solicite dos números enteros e imprima todos los números enteros entre ellos"
      ],
      "metadata": {
        "id": "gd1D7AyLqvOT"
      }
    },
    {
      "cell_type": "code",
      "source": [
        "num1 = int(input(\"Ingresa el primer número entero: \"))\n",
        "num2 = int(input(\"Ingresa el segundo número entero: \"))\n",
        "\n",
        "lista = list(range(num1, num2))\n",
        "print(lista)"
      ],
      "metadata": {
        "colab": {
          "base_uri": "https://localhost:8080/"
        },
        "id": "HccGgO1wq9xU",
        "outputId": "776508d3-5dea-4697-b363-1d57f39bab13"
      },
      "execution_count": null,
      "outputs": [
        {
          "output_type": "stream",
          "name": "stdout",
          "text": [
            "Ingresa el primer número entero: 5\n",
            "Ingresa el segundo número entero: 10\n",
            "[5, 6, 7, 8, 9]\n"
          ]
        }
      ]
    },
    {
      "cell_type": "markdown",
      "source": [
        "2 - Escribe un programa para calcular cuántos días tomará que la colonia de una bacteria A supere o iguale a la colonia de una bacteria B, basado en tasas de crecimiento del 3% y 1.5%, respectivamente. Supón que la colonia A comienza con 4 elementos y B con 10."
      ],
      "metadata": {
        "id": "RW7I4etNrcqF"
      }
    },
    {
      "cell_type": "code",
      "source": [
        "bacteria_A = 4\n",
        "bacteria_B = 10\n",
        "dias = 0\n",
        "\n",
        "while bacteria_A <= bacteria_B:\n",
        "    bacteria_A *= 1.03\n",
        "    bacteria_B *= 1.015\n",
        "    dias += 1\n",
        "\n",
        "print(\"Tomará\", dias, \"días para que la colonia A supere o iguale a la colonia B.\")\n"
      ],
      "metadata": {
        "colab": {
          "base_uri": "https://localhost:8080/"
        },
        "id": "7cRmkKbmrlbO",
        "outputId": "1261f6ba-6e55-4d4b-9833-1e70b1c9c731"
      },
      "execution_count": null,
      "outputs": [
        {
          "output_type": "stream",
          "name": "stdout",
          "text": [
            "Tomará 63 días para que la colonia A supere o iguale a la colonia B.\n"
          ]
        }
      ]
    },
    {
      "cell_type": "markdown",
      "source": [
        "3 - Para procesar una cantidad de 15 datos de evaluaciones de usuarios de un servicio de la empresa, necesitamos verificar si las calificaciones son válidas. Por lo tanto, escribe un programa que recibirá calificaciones del 0 al 5 y verificará si son valores válidos. Si se ingresa una calificación superior a 5 o inferior a 0, se repetirá hasta que el usuario ingrese un valor válido."
      ],
      "metadata": {
        "id": "ifVq5Xr8unjf"
      }
    },
    {
      "cell_type": "code",
      "source": [
        "# Programa para procesar 5 evaluaciones válidas (entre 0 y 5)\n",
        "\n",
        "evaluaciones = []  # Lista para almacenar las calificaciones\n",
        "\n",
        "# Se procesan 5 evaluaciones\n",
        "for i in range(5):\n",
        "    while True:\n",
        "        try:\n",
        "            calificacion = float(input(f\"Ingresa la calificación #{i+1} (entre 0 y 5): \"))\n",
        "            if 0 <= calificacion <= 5:\n",
        "                evaluaciones.append(calificacion)\n",
        "                break  # Salimos del bucle si el valor es válido\n",
        "            else:\n",
        "                print(\"Error: La calificación debe estar entre 0 y 5. Intenta nuevamente.\")\n",
        "        except ValueError:\n",
        "            print(\"Error: Ingresa un número válido.\")\n",
        "\n",
        "# Se muestran todas las evaluaciones ingresadas\n",
        "print(\"\\nLas evaluaciones ingresadas son:\")\n",
        "for idx, cal in enumerate(evaluaciones, start=1):\n",
        "    print(f\"{idx}. {cal}\")\n",
        "\n"
      ],
      "metadata": {
        "colab": {
          "base_uri": "https://localhost:8080/"
        },
        "id": "9KNdoD-1usdh",
        "outputId": "90204f2e-9cee-43ed-b1c9-a906de2a2240"
      },
      "execution_count": null,
      "outputs": [
        {
          "output_type": "stream",
          "name": "stdout",
          "text": [
            "Ingresa la calificación #1 (entre 0 y 5): 4\n",
            "Ingresa la calificación #2 (entre 0 y 5): 9\n",
            "Error: La calificación debe estar entre 0 y 5. Intenta nuevamente.\n",
            "Ingresa la calificación #2 (entre 0 y 5): 3\n",
            "Ingresa la calificación #3 (entre 0 y 5): 3\n",
            "Ingresa la calificación #4 (entre 0 y 5): p\n",
            "Error: Ingresa un número válido.\n",
            "Ingresa la calificación #4 (entre 0 y 5): 0\n",
            "Ingresa la calificación #5 (entre 0 y 5): 3\n",
            "\n",
            "Las evaluaciones ingresadas son:\n",
            "1. 4.0\n",
            "2. 3.0\n",
            "3. 3.0\n",
            "4. 0.0\n",
            "5. 3.0\n"
          ]
        }
      ]
    },
    {
      "cell_type": "markdown",
      "source": [
        "4 - Desarrolla un programa que lea un conjunto indefinido de temperaturas en grados Celsius y calcule su promedio. La lectura debe detenerse al ingresar el valor -273°C."
      ],
      "metadata": {
        "id": "f6bkj1dq2RYk"
      }
    },
    {
      "cell_type": "code",
      "source": [
        "# Programa para calcular el promedio de temperaturas en °C\n",
        "# La lectura se detiene al ingresar -273°C\n",
        "\n",
        "suma_temperaturas = 0.0  # Acumula la suma de las temperaturas válidas\n",
        "contador = 0  # Cuenta la cantidad de temperaturas ingresadas\n",
        "\n",
        "while True:\n",
        "    try:\n",
        "        temp = float(input(\"Ingresa una temperatura en °C (ingresa -273 para detener): \"))\n",
        "    except ValueError:\n",
        "        print(\"Error: Debes ingresar un número válido.\")\n",
        "        continue\n",
        "\n",
        "    if temp == -273:\n",
        "        break\n",
        "\n",
        "    suma_temperaturas += temp\n",
        "    contador += 1\n",
        "\n",
        "if contador > 0:\n",
        "    promedio = suma_temperaturas / contador\n",
        "    print(\"\\nEl promedio de las temperaturas es:\", promedio)\n",
        "else:\n",
        "    print(\"\\nNo se ingresaron temperaturas válidas.\")\n"
      ],
      "metadata": {
        "colab": {
          "base_uri": "https://localhost:8080/"
        },
        "id": "hn8PwjSJ2S_1",
        "outputId": "66269cb5-3be0-487d-f60d-dc25c3dafffd"
      },
      "execution_count": null,
      "outputs": [
        {
          "output_type": "stream",
          "name": "stdout",
          "text": [
            "Ingresa una temperatura en °C (ingresa -273 para detener): 180\n",
            "Ingresa una temperatura en °C (ingresa -273 para detener): 150\n",
            "Ingresa una temperatura en °C (ingresa -273 para detener): 450\n",
            "Ingresa una temperatura en °C (ingresa -273 para detener): -273\n",
            "\n",
            "El promedio de las temperaturas es: 260.0\n"
          ]
        }
      ]
    },
    {
      "cell_type": "markdown",
      "source": [
        "5 - Escribe un programa que calcule el factorial de un número entero proporcionado por el usuario. Recuerda que el factorial de un número entero es el producto de ese número por todos sus antecesores hasta llegar al número 1. Por ejemplo, el factorial de 5 es 5 x 4 x 3 x 2 x 1 = 120."
      ],
      "metadata": {
        "id": "92oatycP3cZH"
      }
    },
    {
      "cell_type": "code",
      "source": [
        "# Programa para calcular el factorial de un número entero\n",
        "\n",
        "try:\n",
        "    numero = int(input(\"Ingresa un número entero: \"))\n",
        "except ValueError:\n",
        "    print(\"Error: Debes ingresar un número entero válido.\")\n",
        "    exit()\n",
        "\n",
        "if numero < 0:\n",
        "    print(\"Error: El factorial no está definido para números negativos.\")\n",
        "else:\n",
        "    factorial = 1\n",
        "    for i in range(1, numero + 1):\n",
        "        factorial *= i  # Multiplicamos factorial por cada número desde 1 hasta el número ingresado\n",
        "    print(f\"El factorial de {numero} es {factorial}.\")\n"
      ],
      "metadata": {
        "colab": {
          "base_uri": "https://localhost:8080/"
        },
        "id": "f1KjMbEW3d4D",
        "outputId": "a4cae132-b9a8-460d-ec9c-b14f377f4903"
      },
      "execution_count": null,
      "outputs": [
        {
          "output_type": "stream",
          "name": "stdout",
          "text": [
            "Ingresa un número entero: 10\n",
            "El factorial de 10 es 3628800.\n"
          ]
        }
      ]
    },
    {
      "cell_type": "markdown",
      "source": [
        "## **Momento de los proyectos**"
      ],
      "metadata": {
        "id": "7nqbFRO64j3z"
      }
    },
    {
      "cell_type": "markdown",
      "source": [
        "6 - Escribe un programa que genere la tabla de multiplicar de un número entero del 1 al 10, según la elección del usuario. Como ejemplo, para el número 2, la tabla de multiplicar debe mostrarse en el siguiente formato:\n",
        "\n",
        "Tabla de multiplicar del 2:\n",
        "2 x 1 = 2\n",
        "2 x 2 = 4\n",
        "[...]\n",
        "2 x 10 = 20\n",
        "\n"
      ],
      "metadata": {
        "id": "Z9ijxyx74rpH"
      }
    },
    {
      "cell_type": "code",
      "source": [
        "n = int(input(\"Ingresa un número entero del 1 al 10: \\n\"))\n",
        "\n",
        "print(f\"Tabla de multiplicar del {n}:\\n\")\n",
        "for i in range(1, 11):\n",
        "    print(f\"{n} x {i} = {n * i}\")\n",
        "\n"
      ],
      "metadata": {
        "colab": {
          "base_uri": "https://localhost:8080/"
        },
        "id": "hFCshXdM4xm7",
        "outputId": "acaa79f1-e3ea-47ca-c497-f1d2817c30aa"
      },
      "execution_count": null,
      "outputs": [
        {
          "output_type": "stream",
          "name": "stdout",
          "text": [
            "Ingresa un número entero del 1 al 10: \n",
            "9\n",
            "Tabla de multiplicar del 9:\n",
            "\n",
            "9 x 1 = 9\n",
            "9 x 2 = 18\n",
            "9 x 3 = 27\n",
            "9 x 4 = 36\n",
            "9 x 5 = 45\n",
            "9 x 6 = 54\n",
            "9 x 7 = 63\n",
            "9 x 8 = 72\n",
            "9 x 9 = 81\n",
            "9 x 10 = 90\n"
          ]
        }
      ]
    },
    {
      "cell_type": "markdown",
      "source": [
        "7 - Los números primos tienen diversas aplicaciones en Ciencia de Datos, como en criptografía y seguridad. Un número primo es aquel que es divisible solo por sí mismo y por 1. Por lo tanto, crea un programa que solicite un número entero y determine si es un número primo o no."
      ],
      "metadata": {
        "id": "Q9Ah6U3Y61eH"
      }
    },
    {
      "cell_type": "code",
      "source": [
        "# Programa para determinar si un número es primo\n",
        "\n",
        "try:\n",
        "    numero = int(input(\"Ingresa un número entero: \"))\n",
        "except ValueError:\n",
        "    print(\"Error: Debes ingresar un número entero válido.\")\n",
        "    exit()\n",
        "\n",
        "if numero < 2:\n",
        "    print(f\"{numero} no es un número primo.\")\n",
        "else:\n",
        "    es_primo = True\n",
        "    # Se recorre desde 2 hasta la raíz cuadrada del número (inclusive)\n",
        "    for i in range(2, int(numero**0.5) + 1):\n",
        "        if numero % i == 0:\n",
        "            es_primo = False\n",
        "            break\n",
        "\n",
        "    if es_primo:\n",
        "        print(f\"{numero} es un número primo.\")\n",
        "    else:\n",
        "        print(f\"{numero} no es un número primo.\")\n"
      ],
      "metadata": {
        "colab": {
          "base_uri": "https://localhost:8080/"
        },
        "id": "13FLJS9N6zeY",
        "outputId": "6d37d6ac-c1b0-4337-ee74-6615e40ea5bc"
      },
      "execution_count": null,
      "outputs": [
        {
          "output_type": "stream",
          "name": "stdout",
          "text": [
            "Ingresa un número entero: 17\n",
            "17 es un número primo.\n"
          ]
        }
      ]
    },
    {
      "cell_type": "markdown",
      "source": [
        "8 - Vamos a comprender la distribución de edades de los pensionistas de una empresa de seguros. Escribe un programa que lea las edades de una cantidad no informada de clientes y muestre la distribución en los intervalos [0-25], [26-50], [51-75] y [76-100]. La entrada de datos se detendrá al ingresar un número negativo."
      ],
      "metadata": {
        "id": "ZPwyyJcH7VPC"
      }
    },
    {
      "cell_type": "code",
      "source": [
        "# Programa para analizar la distribución de edades de pensionistas\n",
        "\n",
        "# Inicializamos los contadores para cada intervalo\n",
        "contador_0_25 = 0\n",
        "contador_26_50 = 0\n",
        "contador_51_75 = 0\n",
        "contador_76_100 = 0\n",
        "\n",
        "while True:\n",
        "    try:\n",
        "        edad = int(input(\"Ingresa la edad del pensionista (número negativo para terminar): \"))\n",
        "    except ValueError:\n",
        "        print(\"Error: Ingresa un número válido.\")\n",
        "        continue\n",
        "\n",
        "    # Si se ingresa un número negativo, se detiene la lectura\n",
        "    if edad < 0:\n",
        "        break\n",
        "\n",
        "    # Se verifica en qué intervalo se encuentra la edad\n",
        "    if 0 <= edad <= 25:\n",
        "        contador_0_25 += 1\n",
        "    elif 26 <= edad <= 50:\n",
        "        contador_26_50 += 1\n",
        "    elif 51 <= edad <= 75:\n",
        "        contador_51_75 += 1\n",
        "    elif 76 <= edad <= 100:\n",
        "        contador_76_100 += 1\n",
        "    else:\n",
        "        # Si la edad es mayor a 100 o menor a 0 (aunque menor a 0 ya se detiene), se notifica\n",
        "        print(\"Edad fuera del rango esperado (0-100). No se contará.\")\n",
        "\n",
        "# Se muestra la distribución de edades\n",
        "print(\"\\nDistribución de edades:\")\n",
        "print(f\"[0-25]: {contador_0_25}\")\n",
        "print(f\"[26-50]: {contador_26_50}\")\n",
        "print(f\"[51-75]: {contador_51_75}\")\n",
        "print(f\"[76-100]: {contador_76_100}\")\n"
      ],
      "metadata": {
        "colab": {
          "base_uri": "https://localhost:8080/"
        },
        "id": "LAOCCdXX7XKV",
        "outputId": "7cdcb942-4bd1-4dc9-d301-be027f86c106"
      },
      "execution_count": null,
      "outputs": [
        {
          "output_type": "stream",
          "name": "stdout",
          "text": [
            "Ingresa la edad del pensionista (número negativo para terminar): 56\n",
            "Ingresa la edad del pensionista (número negativo para terminar): 23\n",
            "Ingresa la edad del pensionista (número negativo para terminar): 88\n",
            "Ingresa la edad del pensionista (número negativo para terminar): 65\n",
            "Ingresa la edad del pensionista (número negativo para terminar): 32\n",
            "Ingresa la edad del pensionista (número negativo para terminar): 56\n",
            "Ingresa la edad del pensionista (número negativo para terminar): 34\n",
            "Ingresa la edad del pensionista (número negativo para terminar): 98\n",
            "Ingresa la edad del pensionista (número negativo para terminar): 67\n",
            "Ingresa la edad del pensionista (número negativo para terminar): 23\n",
            "Ingresa la edad del pensionista (número negativo para terminar): 34\n",
            "Ingresa la edad del pensionista (número negativo para terminar): 56\n",
            "Ingresa la edad del pensionista (número negativo para terminar): 84\n",
            "Ingresa la edad del pensionista (número negativo para terminar): 98\n",
            "Ingresa la edad del pensionista (número negativo para terminar): 34\n",
            "Ingresa la edad del pensionista (número negativo para terminar): 67\n",
            "Ingresa la edad del pensionista (número negativo para terminar): 45\n",
            "Ingresa la edad del pensionista (número negativo para terminar): 34\n",
            "Ingresa la edad del pensionista (número negativo para terminar): 36\n",
            "Ingresa la edad del pensionista (número negativo para terminar): \n",
            "Error: Ingresa un número válido.\n",
            "Ingresa la edad del pensionista (número negativo para terminar): 7\n",
            "Ingresa la edad del pensionista (número negativo para terminar): -1\n",
            "\n",
            "Distribución de edades:\n",
            "[0-25]: 3\n",
            "[26-50]: 7\n",
            "[51-75]: 6\n",
            "[76-100]: 4\n"
          ]
        }
      ]
    },
    {
      "cell_type": "markdown",
      "source": [
        "9 - En una elección para la gerencia de una empresa con 20 empleados, hay cuatro candidatos. Escribe un programa que calcule al ganador de la elección. La votación se realizó de la siguiente manera:\n",
        "\n",
        "Cada empleado votó por uno de los cuatro candidatos (representados por los números 1, 2, 3 y 4).\n",
        "\n",
        "También se contaron los votos nulos (representados por el número 5) y los votos en blanco (representados por el número 6).\n",
        "\n",
        "Al final de la votación, el programa debe mostrar el número total de votos para cada candidato, los votos nulos y los votos en blanco. Además, debe calcular y mostrar el porcentaje de votos nulos con respecto al total de votos y el porcentaje de votos en blanco con respecto al total de votos."
      ],
      "metadata": {
        "id": "34peVs6T8ngK"
      }
    },
    {
      "cell_type": "code",
      "source": [
        "# Programa para determinar el ganador en una elección con 20 empleados\n",
        "\n",
        "total_votos = 20\n",
        "\n",
        "# Inicializamos los contadores\n",
        "votos_candidato1 = 0\n",
        "votos_candidato2 = 0\n",
        "votos_candidato3 = 0\n",
        "votos_candidato4 = 0\n",
        "votos_nulos = 0\n",
        "votos_blanco = 0\n",
        "\n",
        "# Recolectamos los votos de cada empleado\n",
        "for i in range(1, total_votos + 1):\n",
        "    try:\n",
        "        voto = int(input(f\"Empleado {i}, ingresa tu voto (1-4 para candidatos, 5 para nulo, 6 para blanco): \"))\n",
        "    except ValueError:\n",
        "        print(\"Error: Ingresa un número entero válido.\")\n",
        "        continue\n",
        "\n",
        "    if voto == 1:\n",
        "        votos_candidato1 += 1\n",
        "    elif voto == 2:\n",
        "        votos_candidato2 += 1\n",
        "    elif voto == 3:\n",
        "        votos_candidato3 += 1\n",
        "    elif voto == 4:\n",
        "        votos_candidato4 += 1\n",
        "    elif voto == 5:\n",
        "        votos_nulos += 1\n",
        "    elif voto == 6:\n",
        "        votos_blanco += 1\n",
        "    else:\n",
        "        print(\"Voto no reconocido. No se contabiliza.\")\n",
        "\n",
        "# Determinamos el candidato ganador (entre los candidatos 1 a 4)\n",
        "votos_candidatos = [votos_candidato1, votos_candidato2, votos_candidato3, votos_candidato4]\n",
        "max_votos = max(votos_candidatos)\n",
        "ganador = votos_candidatos.index(max_votos) + 1  # Se suma 1 para obtener el número del candidato\n",
        "\n",
        "# Cálculo de porcentajes respecto al total de votos\n",
        "porcentaje_nulos = (votos_nulos / total_votos) * 100\n",
        "porcentaje_blanco = (votos_blanco / total_votos) * 100\n",
        "\n",
        "# Mostramos los resultados\n",
        "print(\"\\nResultados de la votación:\")\n",
        "print(\"Candidato 1:\", votos_candidato1)\n",
        "print(\"Candidato 2:\", votos_candidato2)\n",
        "print(\"Candidato 3:\", votos_candidato3)\n",
        "print(\"Candidato 4:\", votos_candidato4)\n",
        "print(\"Votos nulos:\", votos_nulos)\n",
        "print(\"Votos en blanco:\", votos_blanco)\n",
        "print(\"Porcentaje de votos nulos: {:.2f}%\".format(porcentaje_nulos))\n",
        "print(\"Porcentaje de votos en blanco: {:.2f}%\".format(porcentaje_blanco))\n",
        "print(f\"\\nEl candidato ganador es el candidato {ganador} con {max_votos} votos.\")\n",
        "\n"
      ],
      "metadata": {
        "colab": {
          "base_uri": "https://localhost:8080/"
        },
        "id": "9WTNHaN78pEh",
        "outputId": "eabd8601-8b31-4bd2-a925-4f46c9a00869"
      },
      "execution_count": null,
      "outputs": [
        {
          "output_type": "stream",
          "name": "stdout",
          "text": [
            "Empleado 1, ingresa tu voto (1-4 para candidatos, 5 para nulo, 6 para blanco): 3\n",
            "Empleado 2, ingresa tu voto (1-4 para candidatos, 5 para nulo, 6 para blanco): 2\n",
            "Empleado 3, ingresa tu voto (1-4 para candidatos, 5 para nulo, 6 para blanco): 5\n",
            "Empleado 4, ingresa tu voto (1-4 para candidatos, 5 para nulo, 6 para blanco): 33\n",
            "Voto no reconocido. No se contabiliza.\n",
            "Empleado 5, ingresa tu voto (1-4 para candidatos, 5 para nulo, 6 para blanco): 5\n",
            "Empleado 6, ingresa tu voto (1-4 para candidatos, 5 para nulo, 6 para blanco): 6\n",
            "Empleado 7, ingresa tu voto (1-4 para candidatos, 5 para nulo, 6 para blanco): 2\n",
            "Empleado 8, ingresa tu voto (1-4 para candidatos, 5 para nulo, 6 para blanco): 3\n",
            "Empleado 9, ingresa tu voto (1-4 para candidatos, 5 para nulo, 6 para blanco): 6\n",
            "Empleado 10, ingresa tu voto (1-4 para candidatos, 5 para nulo, 6 para blanco): 77\n",
            "Voto no reconocido. No se contabiliza.\n",
            "Empleado 11, ingresa tu voto (1-4 para candidatos, 5 para nulo, 6 para blanco): 6\n",
            "Empleado 12, ingresa tu voto (1-4 para candidatos, 5 para nulo, 6 para blanco): 6\n",
            "Empleado 13, ingresa tu voto (1-4 para candidatos, 5 para nulo, 6 para blanco): 6\n",
            "Empleado 14, ingresa tu voto (1-4 para candidatos, 5 para nulo, 6 para blanco): 2\n",
            "Empleado 15, ingresa tu voto (1-4 para candidatos, 5 para nulo, 6 para blanco): 3\n",
            "Empleado 16, ingresa tu voto (1-4 para candidatos, 5 para nulo, 6 para blanco): 4\n",
            "Empleado 17, ingresa tu voto (1-4 para candidatos, 5 para nulo, 6 para blanco): 5\n",
            "Empleado 18, ingresa tu voto (1-4 para candidatos, 5 para nulo, 6 para blanco): 6\n",
            "Empleado 19, ingresa tu voto (1-4 para candidatos, 5 para nulo, 6 para blanco): 4\n",
            "Empleado 20, ingresa tu voto (1-4 para candidatos, 5 para nulo, 6 para blanco): 2\n",
            "\n",
            "Resultados de la votación:\n",
            "Candidato 1: 0\n",
            "Candidato 2: 4\n",
            "Candidato 3: 3\n",
            "Candidato 4: 2\n",
            "Votos nulos: 3\n",
            "Votos en blanco: 6\n",
            "Porcentaje de votos nulos: 15.00%\n",
            "Porcentaje de votos en blanco: 30.00%\n",
            "\n",
            "El candidato ganador es el candidato 2 con 4 votos.\n"
          ]
        }
      ]
    },
    {
      "cell_type": "markdown",
      "source": [
        "# 5. Estructuras de Datos"
      ],
      "metadata": {
        "id": "Rkl3113W-j7E"
      }
    },
    {
      "cell_type": "markdown",
      "source": [
        "## Entrenando la programación\n",
        "Practicar el uso de estructuras de datos, como listas y diccionarios, a través de algunas actividades.\n",
        "\n"
      ],
      "metadata": {
        "id": "iNkYKcI7-Oi1"
      }
    },
    {
      "cell_type": "markdown",
      "source": [
        "1 - Crea un programa que tenga la siguiente lista con los gastos de una empresa de papel [2172.54, 3701.35, 3518.09, 3456.61, 3249.38, 2840.82, 3891.45, 3075.26, 2317.64, 3219.08]. Con estos valores, crea un programa que calcule el promedio de gastos. Sugerencia: usa las funciones integradas sum() y len()."
      ],
      "metadata": {
        "id": "S9kGbWbc-cO6"
      }
    },
    {
      "cell_type": "code",
      "source": [
        "gastos = [2172.54, 3701.35, 3518.09, 3456.61, 3249.38, 2840.82, 3891.45, 3075.26, 2317.64, 3219.08]\n",
        "\n",
        "promedio = sum(gastos) / len(gastos)\n",
        "\n",
        "print(\"El promedio de gastos es:\", promedio)"
      ],
      "metadata": {
        "colab": {
          "base_uri": "https://localhost:8080/"
        },
        "id": "IXrV3A6T_CxB",
        "outputId": "8e869be8-2997-429b-ae9e-24de582d2b44"
      },
      "execution_count": null,
      "outputs": [
        {
          "output_type": "stream",
          "name": "stdout",
          "text": [
            "El promedio de gastos es: 3144.222\n"
          ]
        }
      ]
    },
    {
      "cell_type": "markdown",
      "source": [
        "2 - Con los mismos datos de la pregunta anterior, determina cuántas compras se realizaron por encima de 3000 reales y calcula el porcentaje con respecto al total de compras."
      ],
      "metadata": {
        "id": "mWBQWkqJ_xUj"
      }
    },
    {
      "cell_type": "code",
      "source": [
        "gastos = [2172.54, 3701.35, 3518.09, 3456.61, 3249.38, 2840.82, 3891.45, 3075.26, 2317.64, 3219.08]\n",
        "\n",
        "total_compras = sum(gastos)\n",
        "compras_por_encima_de_3000 = sum(1 for compra in gastos if compra > 3000)\n",
        "porcentaje = (compras_por_encima_de_3000 / len(gastos)) * 100\n",
        "\n",
        "print(\"Total de compras:\", total_compras)\n",
        "print(\"Compras por encima de 3000:\", compras_por_encima_de_3000)\n",
        "print(\"Porcentaje de compras por encima de 3000:\", porcentaje)\n"
      ],
      "metadata": {
        "colab": {
          "base_uri": "https://localhost:8080/"
        },
        "id": "I8DNpAUw_ycf",
        "outputId": "505ef7db-7508-448c-fe6d-fd6dd5c29fc8"
      },
      "execution_count": null,
      "outputs": [
        {
          "output_type": "stream",
          "name": "stdout",
          "text": [
            "Total de compras: 31442.22\n",
            "Compras por encima de 3000: 7\n",
            "Porcentaje de compras por encima de 3000: 70.0\n"
          ]
        }
      ]
    },
    {
      "cell_type": "markdown",
      "source": [
        "3 - Crea un código que recoja en una lista 5 números enteros aleatorios e imprima la lista. Ejemplo: [1, 4, 7, 2, 4]."
      ],
      "metadata": {
        "id": "JBbAJCUoBBcr"
      }
    },
    {
      "cell_type": "code",
      "source": [
        "import random\n",
        "\n",
        "aleatorios = [random.randint(1, 100) for _ in range(5)]\n",
        "print(aleatorios)\n"
      ],
      "metadata": {
        "colab": {
          "base_uri": "https://localhost:8080/"
        },
        "id": "o6xpzqD9BC42",
        "outputId": "9478f14e-830c-4372-8d01-c0d36d64a2ee"
      },
      "execution_count": null,
      "outputs": [
        {
          "output_type": "stream",
          "name": "stdout",
          "text": [
            "[83, 81, 59, 43, 91]\n"
          ]
        }
      ]
    },
    {
      "cell_type": "markdown",
      "source": [
        "4 - Recoge nuevamente 5 números enteros e imprime la lista en orden inverso al enviado."
      ],
      "metadata": {
        "id": "swaIdN41Bkpi"
      }
    },
    {
      "cell_type": "code",
      "source": [
        "import random\n",
        "\n",
        "aleatorios = [random.randint(1, 100) for _ in range(5)]\n",
        "print(aleatorios)\n",
        "print(f'Lista de números invertida: {aleatorios[::-1]}')\n"
      ],
      "metadata": {
        "colab": {
          "base_uri": "https://localhost:8080/"
        },
        "id": "cH0dvb-1BmMl",
        "outputId": "c0c6d592-367e-439f-fc1f-eee3373a0c40"
      },
      "execution_count": null,
      "outputs": [
        {
          "output_type": "stream",
          "name": "stdout",
          "text": [
            "[23, 47, 65, 11, 86]\n",
            "Lista de números invertida: [86, 11, 65, 47, 23]\n"
          ]
        }
      ]
    },
    {
      "cell_type": "markdown",
      "source": [
        "5 - Crea un programa que, al ingresar un número cualquiera, genere una lista que contenga todos los números primos entre 1 y el número ingresado."
      ],
      "metadata": {
        "id": "75UfYte0CYi5"
      }
    },
    {
      "cell_type": "code",
      "source": [
        "# Recopilamos el número\n",
        "numero = int(input('Ingresa un número entero: '))\n",
        "\n",
        "# Lista para almacenar los números primos\n",
        "lista_primos = []\n",
        "\n",
        "# Bucle que recorre todos los números por debajo del número ingresado\n",
        "for num in range(2, numero):\n",
        "  # Primo es una bandera que nos permite saber si el valor analizado es primo o no.\n",
        "  primo = True\n",
        "  # Probamos si todos los números por debajo del especificado en el primer bucle pueden dar una división exacta.\n",
        "  for prueba_divisibles in range(2, num):\n",
        "    if num % prueba_divisibles == 0:\n",
        "      # Si es divisible por algún número, entendemos que el número no es primo y terminamos el bucle interno con break.\n",
        "      primo = False\n",
        "      break\n",
        "  # La condición se convierte en el resultado booleano de primo: False. Ignoramos la condición True y ejecutamos el bloque del if.\n",
        "  if primo:\n",
        "    lista_primos.append(num)\n",
        "# Resultado\n",
        "print(f'Lista de números primos: {lista_primos}')"
      ],
      "metadata": {
        "colab": {
          "base_uri": "https://localhost:8080/"
        },
        "id": "Q-bmIgraCt5L",
        "outputId": "c8585e73-f8ab-44f5-dbbf-db0f67eb1087"
      },
      "execution_count": null,
      "outputs": [
        {
          "output_type": "stream",
          "name": "stdout",
          "text": [
            "Ingresa un número entero: 57\n",
            "Lista de números primos: [2, 3, 5, 7, 11, 13, 17, 19, 23, 29, 31, 37, 41, 43, 47, 53]\n"
          ]
        }
      ]
    },
    {
      "cell_type": "markdown",
      "source": [
        "6 - Escribe un programa que pida una fecha, especificando el día, mes y año, y determine si es válida para su análisis."
      ],
      "metadata": {
        "id": "K_SdyKqUEZYI"
      }
    },
    {
      "cell_type": "code",
      "source": [
        "# Recopilamos la fecha\n",
        "dia = int(input('Ingrese el día: '))\n",
        "mes = int(input('Ingrese el mes: '))\n",
        "año = int(input('Ingrese el año: '))\n",
        "\n",
        "# Análisis de febrero\n",
        "if mes == 2:\n",
        "  # Verificamos si es o no un año bisiesto\n",
        "  if año % 4 == 0 and (año % 400 == 0 or año % 100 != 0):\n",
        "    dias_febrero = 29\n",
        "  else:\n",
        "    dias_febrero = 28\n",
        "  # Verificamos si el día ingresado coincide con el máximo de días de febrero\n",
        "  if dia >= 1 and dia <= dias_febrero:\n",
        "    print('Fecha válida')\n",
        "  else:\n",
        "    print('Fecha inválida')\n",
        "# Verificamos meses que terminan en 31 días\n",
        "elif mes in [1, 3, 5, 7, 8, 10, 12]:\n",
        "  if dia >= 1 and dia <= 31:\n",
        "    print('Fecha válida')\n",
        "  else:\n",
        "    print('Fecha inválida')\n",
        "# Verificamos meses que terminan en 30 días\n",
        "elif mes in [4, 6, 9, 11]:\n",
        "  if dia >= 1 and dia <= 30:\n",
        "    print('Fecha válida')\n",
        "  else:\n",
        "    print('Fecha inválida')\n",
        "# Si el mes no está entre 1 y 12\n",
        "else:\n",
        "  print('Fecha inválida')"
      ],
      "metadata": {
        "colab": {
          "base_uri": "https://localhost:8080/"
        },
        "id": "uYbYVTuaEafX",
        "outputId": "7c6334c5-24e4-40ab-d6cd-0423f6b0790b"
      },
      "execution_count": null,
      "outputs": [
        {
          "output_type": "stream",
          "name": "stdout",
          "text": [
            "Ingrese el día: 26\n",
            "Ingrese el mes: 7\n",
            "Ingrese el año: 1989\n",
            "Fecha válida\n"
          ]
        }
      ]
    },
    {
      "cell_type": "markdown",
      "source": [
        "## **Momento para los proyectos**"
      ],
      "metadata": {
        "id": "n_EkFvydFtgH"
      }
    },
    {
      "cell_type": "markdown",
      "source": [
        "7 - Para un estudio sobre la multiplicación de bacterias en una colonia, se recopiló el número de bacterias multiplicadas por día y se puede observar a continuación: [1.2, 2.1, 3.3, 5.0, 7.8, 11.3, 16.6, 25.1, 37.8, 56.9]. Con estos valores, crea un código que genere una lista que contenga el porcentaje de crecimiento de bacterias por día, comparando el número de bacterias en cada día con el número de bacterias del día anterior. Sugerencia: para calcular el porcentaje de crecimiento, utiliza la siguiente ecuación: 100 * (muestra_actual - muestra_anterior) / muestra_anterior."
      ],
      "metadata": {
        "id": "Wo6y0BOHFz6b"
      }
    },
    {
      "cell_type": "code",
      "source": [
        "# Lista de muestras de bacterias multiplicadas por día\n",
        "bacterias = [1.2, 2.1, 3.3, 5.0, 7.8, 11.3, 16.6, 25.1, 37.8, 56.9]\n",
        "\n",
        "# Lista para almacenar los porcentajes de crecimiento diario\n",
        "porcentajes_crecimiento = []\n",
        "\n",
        "# Se calcula el crecimiento comparando cada día con el anterior\n",
        "for i in range(1, len(bacterias)):\n",
        "    crecimiento = 100 * (bacterias[i] - bacterias[i - 1]) / bacterias[i - 1]\n",
        "    porcentajes_crecimiento.append(crecimiento)\n",
        "\n",
        "# Se muestra la lista con el porcentaje de crecimiento de cada día\n",
        "print(\"Porcentajes de crecimiento diario:\")\n",
        "for idx, porcentaje in enumerate(porcentajes_crecimiento, start=2):\n",
        "    print(f\"Día {idx}: {porcentaje:.2f}%\")\n"
      ],
      "metadata": {
        "colab": {
          "base_uri": "https://localhost:8080/"
        },
        "id": "pZHQjs46GOzM",
        "outputId": "d21b8a21-905c-4b67-b597-33176aa8f256"
      },
      "execution_count": null,
      "outputs": [
        {
          "output_type": "stream",
          "name": "stdout",
          "text": [
            "Porcentajes de crecimiento diario:\n",
            "Día 2: 75.00%\n",
            "Día 3: 57.14%\n",
            "Día 4: 51.52%\n",
            "Día 5: 56.00%\n",
            "Día 6: 44.87%\n",
            "Día 7: 46.90%\n",
            "Día 8: 51.20%\n",
            "Día 9: 50.60%\n",
            "Día 10: 50.53%\n"
          ]
        }
      ]
    },
    {
      "cell_type": "markdown",
      "source": [
        "8 - Para una selección de productos alimenticios, debemos separar el conjunto de IDs proporcionados por números enteros, sabiendo que los productos con ID par son dulces y los que tienen ID impar son amargos. Crea un código que recoja 10 IDs. Luego, calcula y muestra la cantidad de productos dulces y amargos."
      ],
      "metadata": {
        "id": "CPoZgrmaGvIJ"
      }
    },
    {
      "cell_type": "code",
      "source": [
        "# Lista que contendrá los valores de IDs\n",
        "ids = []\n",
        "# Variables contadoras de dulces y amargos\n",
        "dulce = 0\n",
        "amargo = 0\n",
        "\n",
        "# Creamos un bucle que iterará 10 veces para recopilar los 10 IDs\n",
        "for i in range(0,10):\n",
        "  # Recopilamos el ID y lo agregamos a la lista\n",
        "  ids.append(int(input(f'Ingrese el ID {i+1}°: ')))\n",
        "\n",
        "# Leemos todos los elementos de la lista de IDs y los asignamos a id\n",
        "for id in ids:\n",
        "  # Verificamos si los elementos son pares o impares para llevar el conteo\n",
        "  if id % 2 == 0:\n",
        "    dulce += 1\n",
        "  else:\n",
        "    amargo += 1\n",
        "\n",
        "# Resultado\n",
        "print(f'Cantidad de productos dulces: {dulce}')\n",
        "print(f'Cantidad de productos amargos: {amargo}')"
      ],
      "metadata": {
        "colab": {
          "base_uri": "https://localhost:8080/"
        },
        "id": "YQcEgK5cG6Gu",
        "outputId": "1f0f137f-08ca-4a03-e462-1d58657c10df"
      },
      "execution_count": null,
      "outputs": [
        {
          "output_type": "stream",
          "name": "stdout",
          "text": [
            "Ingrese el ID 1°: 3\n",
            "Ingrese el ID 2°: 4\n",
            "Ingrese el ID 3°: 5\n",
            "Ingrese el ID 4°: 6\n",
            "Ingrese el ID 5°: 7\n",
            "Ingrese el ID 6°: 8\n",
            "Ingrese el ID 7°: 9\n",
            "Ingrese el ID 8°: 2\n",
            "Ingrese el ID 9°: 1\n",
            "Ingrese el ID 10°: 10\n",
            "Cantidad de productos dulces: 5\n",
            "Cantidad de productos amargos: 5\n"
          ]
        }
      ]
    },
    {
      "cell_type": "markdown",
      "source": [
        "9 - Desarrolla un programa que informe la puntuación de un estudiante de acuerdo con sus respuestas. Debe pedir la respuesta del estudiante para cada pregunta y verificar si la respuesta coincide con el resultado. Cada pregunta vale un punto y hay opciones A, B, C o D.\n",
        "\n",
        "Resultado del examen:\n",
        "01 - D\n",
        "02 - A\n",
        "03 - C\n",
        "04 - B\n",
        "05 - A\n",
        "06 - D\n",
        "07 - C\n",
        "08 - C\n",
        "09 - A\n",
        "10 - B"
      ],
      "metadata": {
        "id": "DGqWwHGRJ7CY"
      }
    },
    {
      "cell_type": "code",
      "source": [
        "# Inicializamos los datos\n",
        "respuestas = []  # Lista para almacenar las respuestas\n",
        "# Lista de respuestas correctas\n",
        "gabarito = ['D', 'A', 'C', 'B', 'A', 'D', 'C', 'C', 'A', 'B']\n",
        "nota = 0  # Acumulará la nota total\n",
        "\n",
        "# Recopilamos las respuestas del estudiante\n",
        "for i in range(0, 10):\n",
        "  respuestas.append(input(f'Introduzca la respuesta a la pregunta {i + 1}: ').upper())\n",
        "\n",
        "# Verificamos si las respuestas coinciden y las sumamos a la nota\n",
        "for i in range(0, 10):\n",
        "  if respuestas[i] == gabarito[i]:\n",
        "    nota += 1\n",
        "\n",
        "# Mostrando la nota final\n",
        "print(f'Nota final: {nota}')"
      ],
      "metadata": {
        "colab": {
          "base_uri": "https://localhost:8080/"
        },
        "id": "UDzwvMCVLgb2",
        "outputId": "1670a05e-0ccb-462d-ca8a-56c81d2ced4d"
      },
      "execution_count": null,
      "outputs": [
        {
          "output_type": "stream",
          "name": "stdout",
          "text": [
            "Introduzca la respuesta a la pregunta 1: a\n",
            "Introduzca la respuesta a la pregunta 2: b\n",
            "Introduzca la respuesta a la pregunta 3: c\n",
            "Introduzca la respuesta a la pregunta 4: d\n",
            "Introduzca la respuesta a la pregunta 5: a\n",
            "Introduzca la respuesta a la pregunta 6: b\n",
            "Introduzca la respuesta a la pregunta 7: c\n",
            "Introduzca la respuesta a la pregunta 8: d\n",
            "Introduzca la respuesta a la pregunta 9: a\n",
            "Introduzca la respuesta a la pregunta 10: b\n",
            "Nota final: 5\n"
          ]
        }
      ]
    },
    {
      "cell_type": "markdown",
      "source": [
        "10 - Un instituto de meteorología desea realizar un estudio de la temperatura media de cada mes del año. Para ello, debes crear un código que recoja y almacene esas temperaturas medias en una lista. Luego, calcula el promedio anual de las temperaturas y muestra todas las temperaturas por encima del promedio anual y en qué mes ocurrieron, mostrando los meses por su nombre (Enero, Febrero, etc.)."
      ],
      "metadata": {
        "id": "nX07CeebJ_DQ"
      }
    },
    {
      "cell_type": "code",
      "source": [
        "# Recopilamos la lista de temperaturas mensuales\n",
        "temperaturas_mensuales = []\n",
        "\n",
        "for i in range(0, 12):\n",
        "  temperaturas_mensuales.append(float(input(f'Ingrese la temperatura promedio del mes {i+1}: ')))\n",
        "# Creamos una lista auxiliar para los nombres de los meses\n",
        "meses = ['Enero', 'Febrero', 'Marzo', 'Abril', 'Mayo', 'Junio', 'Julio', 'Agosto', 'Septiembre', 'Octubre', 'Noviembre', 'Diciembre']\n",
        "# Calculamos el promedio\n",
        "media_anual = sum(temperaturas_mensuales) / len(temperaturas_mensuales)\n",
        "\n",
        "# Resultado\n",
        "print('Temperaturas por encima del promedio en: ')\n",
        "for i in range(0, 12):\n",
        "  # Verificamos todas las temperaturas en comparación con la media anual\n",
        "  if temperaturas_mensuales[i] > media_anual:\n",
        "    # Dado que los índices de los meses corresponden a las temperaturas,\n",
        "    # podemos imprimirlos con el mismo índice\n",
        "    print('temperatura promedio: '+ str(media_anual))\n",
        "    print(meses[i] + ': ' + str(temperaturas_mensuales[i]))"
      ],
      "metadata": {
        "colab": {
          "base_uri": "https://localhost:8080/"
        },
        "id": "WyDIvVZcM7Pu",
        "outputId": "def7099d-f030-485c-fb32-5912b846b90c"
      },
      "execution_count": null,
      "outputs": [
        {
          "output_type": "stream",
          "name": "stdout",
          "text": [
            "Ingrese la temperatura promedio del mes 1: 23\n",
            "Ingrese la temperatura promedio del mes 2: 23\n",
            "Ingrese la temperatura promedio del mes 3: 21\n",
            "Ingrese la temperatura promedio del mes 4: 24\n",
            "Ingrese la temperatura promedio del mes 5: 25\n",
            "Ingrese la temperatura promedio del mes 6: 23\n",
            "Ingrese la temperatura promedio del mes 7: 26\n",
            "Ingrese la temperatura promedio del mes 8: 34\n",
            "Ingrese la temperatura promedio del mes 9: 35\n",
            "Ingrese la temperatura promedio del mes 10: 32\n",
            "Ingrese la temperatura promedio del mes 11: 31\n",
            "Ingrese la temperatura promedio del mes 12: 20\n",
            "Temperaturas por encima del promedio en: \n",
            "temperatura promedio: 26.416666666666668\n",
            "Agosto: 34.0\n",
            "temperatura promedio: 26.416666666666668\n",
            "Septiembre: 35.0\n",
            "temperatura promedio: 26.416666666666668\n",
            "Octubre: 32.0\n",
            "temperatura promedio: 26.416666666666668\n",
            "Noviembre: 31.0\n"
          ]
        }
      ]
    },
    {
      "cell_type": "markdown",
      "source": [
        "11 - Una empresa de comercio electrónico está interesada en analizar las ventas de sus productos. Los datos de ventas se han almacenado en un diccionario:\n",
        "\n",
        "{'Producto A': 300, 'Producto B': 80, 'Producto C': 60, 'Producto D': 200, 'Producto E': 250, 'Producto F': 30}\n",
        "\n",
        "Escribe un código que calcule el total de ventas y el producto más vendido."
      ],
      "metadata": {
        "id": "ZMfq2ygJKCy7"
      }
    },
    {
      "cell_type": "code",
      "source": [
        "# Diccionario de ventas\n",
        "datos_ventas = {'Producto A': 300, 'Producto B': 80, 'Producto C': 60, 'Producto D': 200, 'Producto E': 250, 'Producto F': 30}\n",
        "\n",
        "# Inicializamos las variables\n",
        "total_ventas = 0  # Sumará todas las ventas\n",
        "producto_mas_vendido = ''  # Almacenará el nombre del producto más vendido\n",
        "unidades_producto_mas_vendido = 0  # Almacenará la cantidad más alta de ventas\n",
        "\n",
        "# Recorremos las claves y elementos del diccionario\n",
        "for producto in datos_ventas.keys():\n",
        "    # Sumamos el total de ventas\n",
        "    total_ventas += datos_ventas[producto]\n",
        "    # Verificamos si el valor de ventas actual (datos_ventas[producto]) es mayor que el valor almacenado en unidades_producto_mas_vendido\n",
        "    # Cada vez que datos_ventas[producto] supere el valor en unidades_producto_mas_vendido,\n",
        "    # la variable unidades_producto_mas_vendido será igual a datos_ventas[producto], asignando un nuevo valor\n",
        "    # De manera similar, producto_mas_vendido también se actualiza con el producto actual\n",
        "    if datos_ventas[producto] > unidades_producto_mas_vendido:\n",
        "        unidades_producto_mas_vendido = datos_ventas[producto]\n",
        "        producto_mas_vendido = producto\n",
        "# Resultados\n",
        "print(f'Total de ventas es {total_ventas}')\n",
        "print(f'{producto_mas_vendido} es el más vendido')"
      ],
      "metadata": {
        "colab": {
          "base_uri": "https://localhost:8080/"
        },
        "id": "tM8R6ACwQE5_",
        "outputId": "868ed7dc-3a29-45ef-d3a3-7e0671c8f161"
      },
      "execution_count": null,
      "outputs": [
        {
          "output_type": "stream",
          "name": "stdout",
          "text": [
            "Total de ventas es 920\n",
            "Producto A es el más vendido\n"
          ]
        }
      ]
    },
    {
      "cell_type": "markdown",
      "source": [
        "12 - Se realizó una encuesta de mercado para decidir cuál diseño de marca infantil es más atractivo para los niños. Los votos de la encuesta se pueden ver a continuación:\n",
        "\n",
        "Tabla de votos de la marca\n",
        "Diseño 1 - 1334 votos\n",
        "Diseño 2 - 982 votos\n",
        "Diseño 3 - 1751 votos\n",
        "Diseño 4 - 210 votos\n",
        "Diseño 5 - 1811 votos\n",
        "\n",
        "Adapta los datos proporcionados a una estructura de diccionario. A partir de ello, informa el diseño ganador y el porcentaje de votos recibidos."
      ],
      "metadata": {
        "id": "V0aTirAVKOfs"
      }
    },
    {
      "cell_type": "code",
      "source": [
        "# Diccionario de votos por diseño\n",
        "votos = {'Diseño 1': 1334, 'Diseño 2': 982, 'Diseño 3': 1751, 'Diseño 4': 210, 'Diseño 5': 1811}\n",
        "\n",
        "# Inicializamos las variables\n",
        "total_votos = 0  # Sumará todos los votos\n",
        "ganador = ''  # Almacenará el nombre del diseño ganador\n",
        "voto_ganador = 0  # Almacenará la cantidad ganadora de votos\n",
        "\n",
        "# Recorremos las claves y elementos del diccionario\n",
        "for diseño, voto_diseño in votos.items():\n",
        "    # Sumamos el total de votos\n",
        "    total_votos += voto_diseño\n",
        "    # Verificamos si el voto del diseño actual (voto_diseño) es mayor que el valor almacenado en voto_ganador\n",
        "    # Cada vez que voto_diseño supere el valor en voto_ganador,\n",
        "    # la variable voto_ganador será igual a voto_diseño, asignando un nuevo valor\n",
        "    # De manera similar, el ganador también se actualiza con el diseño actual\n",
        "    if voto_diseño > voto_ganador:\n",
        "        voto_ganador = voto_diseño\n",
        "        ganador = diseño\n",
        "# Calculamos el porcentaje del diseño ganador\n",
        "porcentaje = 100 * (voto_ganador) / (total_votos)\n",
        "\n",
        "# Resultado\n",
        "print(f'{ganador} es el ganador: ')\n",
        "print(f'Porcentaje de votos: {porcentaje}%')"
      ],
      "metadata": {
        "colab": {
          "base_uri": "https://localhost:8080/"
        },
        "id": "uaLcOFatQ2dw",
        "outputId": "f450281b-8522-47a7-eb5a-ddde3da3beed"
      },
      "execution_count": null,
      "outputs": [
        {
          "output_type": "stream",
          "name": "stdout",
          "text": [
            "Diseño 5 es el ganador: \n",
            "Porcentaje de votos: 29.747043363994745%\n"
          ]
        }
      ]
    },
    {
      "cell_type": "markdown",
      "source": [
        "13 - Los empleados de un departamento de tu empresa recibirán una bonificación del 10% de su salario debido a un excelente rendimiento del equipo. El departamento de finanzas ha solicitado tu ayuda para verificar las consecuencias financieras de esta bonificación en los recursos. Se te ha enviado una lista con los salarios que recibirán la bonificación: [1172, 1644, 2617, 5130, 5532, 6341, 6650, 7238, 7685, 7782, 7903]. La bonificación de cada empleado no puede ser inferior a 200. En el código, convierte cada uno de los salarios en claves de un diccionario y la bonificación de cada salario en el valor correspondiente. Luego, informa el gasto total en bonificaciones, cuántos empleados recibieron la bonificación mínima y cuál fue el valor más alto de la bonificación proporcionada."
      ],
      "metadata": {
        "id": "FyO0JsxdKduQ"
      }
    },
    {
      "cell_type": "code",
      "source": [
        "# Lista de salarios\n",
        "salarios = [1172, 1644, 2617, 5130, 5532, 6341, 6650, 7238, 7685, 7782, 7903]\n",
        "\n",
        "# Inicializamos las variables\n",
        "diccionario_abonos = {}  # Diccionario de abonos\n",
        "total_abono = 0  # Sumará todos los gastos en abonos\n",
        "abonos_minimo = 0  # Almacenará la cantidad de abonos mínimos\n",
        "mayor_abono = 0  # Almacenará el mayor valor de abono\n",
        "\n",
        "# Recorremos toda la lista de salarios\n",
        "for salario in salarios:\n",
        "    # Calculamos el valor teórico del abono\n",
        "    abono = salario * 0.1\n",
        "    # Si el abono es inferior a 200,\n",
        "    # ajustamos el valor del abono al mínimo (200)\n",
        "    if abono < 200:\n",
        "        abono = 200\n",
        "    # Agregamos un nuevo dato en el diccionario con la clave abono\n",
        "    diccionario_abonos[salario] = abono\n",
        "\n",
        "# Recorremos todos los valores del diccionario de abonos\n",
        "for abono in diccionario_abonos.values():\n",
        "    # Contamos los salarios mínimos\n",
        "    if abono == 200:\n",
        "        abonos_minimo += 1\n",
        "    # Verificamos si el abono leído es mayor que el valor almacenado en mayor_abono\n",
        "    # Cada vez que el abono supere el valor de mayor_abono,\n",
        "    # la variable mayor_abono será igual al abono, asignando un nuevo valor\n",
        "    if abono > mayor_abono:\n",
        "        mayor_abono = abono\n",
        "    # Sumamos los abonos\n",
        "    total_abono += abono\n",
        "# Resultados\n",
        "print(f'Abonos: {diccionario_abonos}')\n",
        "print(f'Total de gastos en abonos: {total_abono}')\n",
        "print(f'Número de empleados que recibieron el abono mínimo: {abonos_minimo}')\n",
        "print(f'Mayor valor de abono: {mayor_abono}')"
      ],
      "metadata": {
        "id": "Vu7AfP_jTvqa"
      },
      "execution_count": null,
      "outputs": []
    },
    {
      "cell_type": "markdown",
      "source": [
        "14 - Un equipo de científicos de datos está estudiando la diversidad biológica en un bosque. El equipo recopiló información sobre el número de especies de plantas y animales en cada área del bosque y almacenó estos datos en un diccionario. En él, la clave describe el área de los datos y los valores en las listas corresponden a las especies de plantas y animales en esas áreas, respectivamente.\n",
        "\n",
        "{'Área Norte': [2819, 7236], 'Área Leste': [1440, 9492], 'Área Sul': [5969, 7496], 'Área Oeste': [14446, 49688], 'Área Centro': [22558, 45148]}\n",
        "\n",
        "Escribe un código para calcular el promedio de especies por área e identificar el área con la mayor diversidad biológica. Sugerencia: utiliza las funciones incorporadas sum() y len()."
      ],
      "metadata": {
        "id": "MuzMTj5XKsOI"
      }
    },
    {
      "cell_type": "code",
      "source": [
        "# Especificamos los datos para un diccionario\n",
        "datos = {'Área Norte': [2819, 7236],\n",
        "         'Área Este': [1440, 9492],\n",
        "         'Área Sur': [5969, 7496],\n",
        "         'Área Oeste': [14446, 49688],\n",
        "         'Área Centro': [22558, 45148]}\n",
        "\n",
        "# Inicializamos las variables\n",
        "suma_media = 0  # Sumará todos los promedios\n",
        "mayor_diversidad = ''  # Almacenará el área con la mayor diversidad\n",
        "mayor_suma = 0  # Almacenará la mayor suma de especies\n",
        "\n",
        "# Recorremos las claves y elementos del diccionario\n",
        "for área, especies in datos.items():\n",
        "    # Sumamos el número de especies en cada área utilizando la función sum\n",
        "    suma_especies = sum(especies)\n",
        "    # Calculamos el promedio dividiendo la suma de las especies entre la cantidad de especies\n",
        "    media = suma_especies / len(especies)\n",
        "    # Imprimimos\n",
        "    print(f'El {área} tiene un promedio de {media} especies')\n",
        "    # Verificamos si la suma de especies es mayor que el valor almacenado de mayor_suma\n",
        "    # Cada vez que suma_especies supere el valor de mayor_suma,\n",
        "    # la variable mayor_suma será igual a suma_especies, asignando un nuevo valor\n",
        "    # De manera similar, mayor_diversidad también se actualiza\n",
        "    if suma_especies > mayor_suma:\n",
        "        mayor_suma = suma_especies\n",
        "        mayor_diversidad = área\n",
        "    # Sumamos los promedios\n",
        "    suma_media += media\n",
        "# La media total será la suma_media dividida por la cantidad de áreas\n",
        "media_total = suma_media / len(datos)\n",
        "print(f'Media general de especies: {media_total}')\n",
        "print(f'Área con la mayor diversidad biológica: {mayor_diversidad}')"
      ],
      "metadata": {
        "id": "Bur70KcJUJrt"
      },
      "execution_count": null,
      "outputs": []
    },
    {
      "cell_type": "markdown",
      "source": [
        "15 - El departamento de Recursos Humanos de tu empresa te pidió ayuda para analizar las edades de los colaboradores de 4 sectores de la empresa. Para ello, te proporcionaron los siguientes datos:\n",
        "\n",
        "{'Sector A': [22, 26, 30, 30, 35, 38, 40, 56, 57, 65],\n",
        " 'Sector B': [22, 24, 26, 33, 41, 49, 50, 54, 60, 64],\n",
        " 'Sector C': [23, 26, 26, 29, 34, 35, 36, 41, 52, 56],\n",
        " 'Sector D': [19, 20, 25, 27, 34, 39, 42, 44, 50, 65]}\n",
        "\n",
        " Dado que cada sector tiene 10 colaboradores, construye un código que calcule la media de edad de cada sector, la edad media general entre todos los sectores y cuántas personas están por encima de la edad media general."
      ],
      "metadata": {
        "id": "QcbeyAulK-Z8"
      }
    },
    {
      "cell_type": "code",
      "source": [
        "# Especificamos los datos para un diccionario\n",
        "datos = {'Sector A': [22, 26, 30, 30, 35, 38, 40, 56, 57, 65],\n",
        "        'Sector B': [22, 24, 26, 33, 41, 49, 50, 54, 60, 64],\n",
        "        'Sector C': [23, 26, 26, 29, 34, 35, 36, 41, 52, 56],\n",
        "        'Sector D': [19, 20, 25, 27, 34, 39, 42, 44, 50, 65]}\n",
        "\n",
        "# Inicializamos la variable que sumará todas las edades\n",
        "total_edades = 0\n",
        "\n",
        "# Recorremos las claves y elementos del diccionario\n",
        "for sector, edades in datos.items():\n",
        "  # Calculamos el promedio dividiendo la suma de las edades entre la cantidad de empleados en cada sector\n",
        "  media_edad = sum(edades) / len(edades)\n",
        "  # Imprimimos\n",
        "  print(f'El {sector} tiene un promedio de {media_edad}')\n",
        "  # Sumamos los promedios\n",
        "  total_edades += sum(edades)\n",
        "# La media total será el total_edades dividido por la cantidad de personas totales (sectores * empleados por sector)\n",
        "media_total = total_edades / (len(edades) * len(datos))\n",
        "print(f'La media de edad general es {media_total}')\n",
        "\n",
        "# Inicializamos la variable que contará a todas las personas con edades por encima de la media\n",
        "arriba_media = 0\n",
        "# Recorremos nuevamente las claves y elementos del diccionario\n",
        "for sector, edades in datos.items():\n",
        "  # Leemos los elementos (edades) dentro de cada lista de edades en el diccionario\n",
        "  for edad in edades:\n",
        "    # Verificamos si el valor de la edad es superior a la media total\n",
        "    if edad > media_total:\n",
        "      # En caso de que el valor de la edad sea superior a la media, incrementamos en uno el contador\n",
        "      arriba_media += 1\n",
        "# Resultado\n",
        "print(f'{arriba_media} personas están por encima de la edad media general')"
      ],
      "metadata": {
        "colab": {
          "base_uri": "https://localhost:8080/"
        },
        "id": "D-leFrmCUVAB",
        "outputId": "6ea7e523-4b26-413a-844c-2fe4a145131b"
      },
      "execution_count": null,
      "outputs": [
        {
          "output_type": "stream",
          "name": "stdout",
          "text": [
            "El Sector A tiene un promedio de 39.9\n",
            "El Sector B tiene un promedio de 42.3\n",
            "El Sector C tiene un promedio de 35.8\n",
            "El Sector D tiene un promedio de 36.5\n",
            "La media de edad general es 38.625\n",
            "18 personas están por encima de la edad media general\n"
          ]
        }
      ]
    }
  ]
}